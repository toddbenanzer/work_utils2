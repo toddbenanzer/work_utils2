{
 "cells": [
  {
   "cell_type": "code",
   "execution_count": 4,
   "metadata": {},
   "outputs": [],
   "source": [
    "import os\n",
    "os.chdir('/workspaces/work_utils2')"
   ]
  },
  {
   "cell_type": "code",
   "execution_count": 5,
   "metadata": {},
   "outputs": [],
   "source": [
    "import random_dataframe as rd"
   ]
  },
  {
   "cell_type": "code",
   "execution_count": 6,
   "metadata": {},
   "outputs": [
    {
     "ename": "AttributeError",
     "evalue": "'DatetimeIndex' object has no attribute 'dt'",
     "output_type": "error",
     "traceback": [
      "\u001b[31m---------------------------------------------------------------------------\u001b[39m",
      "\u001b[31mAttributeError\u001b[39m                            Traceback (most recent call last)",
      "\u001b[36mCell\u001b[39m\u001b[36m \u001b[39m\u001b[32mIn[6]\u001b[39m\u001b[32m, line 54\u001b[39m\n\u001b[32m      1\u001b[39m specs = {\n\u001b[32m      2\u001b[39m     \u001b[33m'\u001b[39m\u001b[33mid\u001b[39m\u001b[33m'\u001b[39m: rd.create_id_column(start=\u001b[32m1001\u001b[39m),\n\u001b[32m      3\u001b[39m     \u001b[33m'\u001b[39m\u001b[33mname\u001b[39m\u001b[33m'\u001b[39m: rd.create_text_column(nulls_pct=\u001b[32m20\u001b[39m),\n\u001b[32m   (...)\u001b[39m\u001b[32m     50\u001b[39m         \u001b[33m'\u001b[39m\u001b[33mis_discounted\u001b[39m\u001b[33m'\u001b[39m: rd.create_boolean_column(prob_true=\u001b[32m0.3\u001b[39m)\n\u001b[32m     51\u001b[39m }\n\u001b[32m     53\u001b[39m \u001b[38;5;66;03m# Generate DataFrame\u001b[39;00m\n\u001b[32m---> \u001b[39m\u001b[32m54\u001b[39m df = \u001b[43mrd\u001b[49m\u001b[43m.\u001b[49m\u001b[43mcreate_dataframe\u001b[49m\u001b[43m(\u001b[49m\u001b[43mspecs\u001b[49m\u001b[43m,\u001b[49m\u001b[43m \u001b[49m\u001b[43mn_rows\u001b[49m\u001b[43m=\u001b[49m\u001b[32;43m10000\u001b[39;49m\u001b[43m,\u001b[49m\u001b[43m \u001b[49m\u001b[43mrandom_seed\u001b[49m\u001b[43m=\u001b[49m\u001b[32;43m42\u001b[39;49m\u001b[43m)\u001b[49m\n\u001b[32m     55\u001b[39m df.sample(\u001b[32m3\u001b[39m)\n",
      "\u001b[36mFile \u001b[39m\u001b[32m/workspaces/work_utils2/random_dataframe/random_dataframe.py:83\u001b[39m, in \u001b[36mcreate_dataframe\u001b[39m\u001b[34m(specs, n_rows, random_seed)\u001b[39m\n\u001b[32m     81\u001b[39m     \u001b[38;5;66;03m# Generate random timestamps between start and end\u001b[39;00m\n\u001b[32m     82\u001b[39m     random_timestamps = np.random.uniform(start_ts, end_ts, n_rows)\n\u001b[32m---> \u001b[39m\u001b[32m83\u001b[39m     result[col_name] = \u001b[43mpd\u001b[49m\u001b[43m.\u001b[49m\u001b[43mto_datetime\u001b[49m\u001b[43m(\u001b[49m\u001b[43mrandom_timestamps\u001b[49m\u001b[43m,\u001b[49m\u001b[43m \u001b[49m\u001b[43munit\u001b[49m\u001b[43m=\u001b[49m\u001b[33;43m\"\u001b[39;49m\u001b[33;43ms\u001b[39;49m\u001b[33;43m\"\u001b[39;49m\u001b[43m)\u001b[49m\u001b[43m.\u001b[49m\u001b[43mdt\u001b[49m.strftime(\n\u001b[32m     84\u001b[39m         \u001b[33m\"\u001b[39m\u001b[33m%\u001b[39m\u001b[33mY-\u001b[39m\u001b[33m%\u001b[39m\u001b[33mm-\u001b[39m\u001b[38;5;132;01m%d\u001b[39;00m\u001b[33m\"\u001b[39m\n\u001b[32m     85\u001b[39m     )\n\u001b[32m     87\u001b[39m \u001b[38;5;28;01melif\u001b[39;00m col_type == \u001b[33m\"\u001b[39m\u001b[33mcategory\u001b[39m\u001b[33m\"\u001b[39m:\n\u001b[32m     88\u001b[39m     values = col_spec[\u001b[33m\"\u001b[39m\u001b[33mvalues\u001b[39m\u001b[33m\"\u001b[39m]\n",
      "\u001b[31mAttributeError\u001b[39m: 'DatetimeIndex' object has no attribute 'dt'"
     ]
    }
   ],
   "source": [
    "specs = {\n",
    "    'id': rd.create_id_column(start=1001),\n",
    "    'name': rd.create_text_column(nulls_pct=20),\n",
    "    'date': rd.create_date_column(\n",
    "        start_date='2022-01-01',\n",
    "        end_date='2022-12-31'\n",
    "    ),\n",
    "    'customer_id': rd.create_integer_column(\n",
    "        distribution='uniform',\n",
    "        min_val=1, \n",
    "        max_val=1000\n",
    "    ),\n",
    "    'score': rd.create_float_column(\n",
    "        distribution='normal',\n",
    "        mean=75, \n",
    "        std=10,\n",
    "        min_val=0,\n",
    "        max_val=100,\n",
    "        nulls_pct=15\n",
    "    ),\n",
    "    'active': rd.create_boolean_column(prob_true=0.8),\n",
    "    'value': rd.create_float_column(\n",
    "        distribution='normal',\n",
    "        mean=100,\n",
    "        std=15,\n",
    "        min_val=0\n",
    "    ),\n",
    "    'category': rd.create_category_column(\n",
    "        values=['Low', 'Medium', 'High'],\n",
    "        probabilities=[0.6, 0.3, 0.1]\n",
    "    ),\n",
    "        'product_category': rd.create_category_column(\n",
    "            values=['Electronics', 'Clothing', 'Food', 'Books', 'Home'],\n",
    "            probabilities=[0.3, 0.25, 0.2, 0.15, 0.1]\n",
    "        ),\n",
    "        'quantity': rd.create_integer_column(\n",
    "            distribution='lognormal',\n",
    "            mean=1,\n",
    "            std=0.5,\n",
    "            min_val=1,\n",
    "            max_val=10\n",
    "        ),\n",
    "        'price': rd.create_float_column(\n",
    "            distribution='lognormal',\n",
    "            mean=3,\n",
    "            std=1,\n",
    "            min_val=10,\n",
    "            max_val=500\n",
    "        ),\n",
    "        'is_discounted': rd.create_boolean_column(prob_true=0.3)\n",
    "}\n",
    "\n",
    "# Generate DataFrame\n",
    "df = rd.create_dataframe(specs, n_rows=10000, random_seed=42)\n",
    "df.sample(3)"
   ]
  },
  {
   "cell_type": "code",
   "execution_count": null,
   "metadata": {},
   "outputs": [],
   "source": []
  },
  {
   "cell_type": "code",
   "execution_count": null,
   "metadata": {},
   "outputs": [],
   "source": []
  }
 ],
 "metadata": {
  "kernelspec": {
   "display_name": "Python 3",
   "language": "python",
   "name": "python3"
  },
  "language_info": {
   "codemirror_mode": {
    "name": "ipython",
    "version": 3
   },
   "file_extension": ".py",
   "mimetype": "text/x-python",
   "name": "python",
   "nbconvert_exporter": "python",
   "pygments_lexer": "ipython3",
   "version": "3.12.8"
  }
 },
 "nbformat": 4,
 "nbformat_minor": 2
}
