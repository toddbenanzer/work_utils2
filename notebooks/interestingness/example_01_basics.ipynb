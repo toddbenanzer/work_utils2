{
 "cells": [
  {
   "cell_type": "code",
   "execution_count": null,
   "metadata": {},
   "outputs": [],
   "source": [
    "import os\n",
    "os.chdir('/workspaces/work_utils2')"
   ]
  },
  {
   "cell_type": "code",
   "execution_count": null,
   "metadata": {},
   "outputs": [],
   "source": [
    "import json\n",
    "import random_dataframe as rd\n",
    "import query_tools as qt"
   ]
  },
  {
   "cell_type": "markdown",
   "metadata": {},
   "source": [
    "# Generate Random Data"
   ]
  },
  {
   "cell_type": "code",
   "execution_count": null,
   "metadata": {},
   "outputs": [
    {
     "data": {
      "text/html": [
       "<div>\n",
       "<style scoped>\n",
       "    .dataframe tbody tr th:only-of-type {\n",
       "        vertical-align: middle;\n",
       "    }\n",
       "\n",
       "    .dataframe tbody tr th {\n",
       "        vertical-align: top;\n",
       "    }\n",
       "\n",
       "    .dataframe thead th {\n",
       "        text-align: right;\n",
       "    }\n",
       "</style>\n",
       "<table border=\"1\" class=\"dataframe\">\n",
       "  <thead>\n",
       "    <tr style=\"text-align: right;\">\n",
       "      <th></th>\n",
       "      <th>id</th>\n",
       "      <th>name</th>\n",
       "      <th>open_date</th>\n",
       "      <th>open_week</th>\n",
       "      <th>open_month</th>\n",
       "      <th>customer_id</th>\n",
       "      <th>score</th>\n",
       "      <th>active</th>\n",
       "      <th>value</th>\n",
       "      <th>category</th>\n",
       "      <th>product_category</th>\n",
       "      <th>quantity</th>\n",
       "      <th>price</th>\n",
       "      <th>is_discounted</th>\n",
       "    </tr>\n",
       "  </thead>\n",
       "  <tbody>\n",
       "    <tr>\n",
       "      <th>312</th>\n",
       "      <td>1313</td>\n",
       "      <td>AjiGFVfO6J67bCdaszy</td>\n",
       "      <td>2024-05-14</td>\n",
       "      <td>2024-03-01</td>\n",
       "      <td>2024-03-31</td>\n",
       "      <td>348</td>\n",
       "      <td>80.772624</td>\n",
       "      <td>True</td>\n",
       "      <td>74.768991</td>\n",
       "      <td>Low</td>\n",
       "      <td>Electronics</td>\n",
       "      <td>2</td>\n",
       "      <td>40.020129</td>\n",
       "      <td>False</td>\n",
       "    </tr>\n",
       "    <tr>\n",
       "      <th>75</th>\n",
       "      <td>1076</td>\n",
       "      <td>None</td>\n",
       "      <td>2024-12-18</td>\n",
       "      <td>2024-02-09</td>\n",
       "      <td>2024-08-31</td>\n",
       "      <td>624</td>\n",
       "      <td>74.013916</td>\n",
       "      <td>True</td>\n",
       "      <td>120.817690</td>\n",
       "      <td>Medium</td>\n",
       "      <td>Clothing</td>\n",
       "      <td>2</td>\n",
       "      <td>31.301804</td>\n",
       "      <td>False</td>\n",
       "    </tr>\n",
       "    <tr>\n",
       "      <th>2</th>\n",
       "      <td>1003</td>\n",
       "      <td>Gl5v8RyWA6PB7po99U9YR2Z4c</td>\n",
       "      <td>2024-09-14</td>\n",
       "      <td>2024-07-26</td>\n",
       "      <td>2024-06-30</td>\n",
       "      <td>56</td>\n",
       "      <td>74.505334</td>\n",
       "      <td>False</td>\n",
       "      <td>122.809963</td>\n",
       "      <td>Low</td>\n",
       "      <td>Clothing</td>\n",
       "      <td>3</td>\n",
       "      <td>47.137104</td>\n",
       "      <td>False</td>\n",
       "    </tr>\n",
       "  </tbody>\n",
       "</table>\n",
       "</div>"
      ],
      "text/plain": [
       "       id                       name   open_date   open_week  open_month  \\\n",
       "312  1313        AjiGFVfO6J67bCdaszy  2024-05-14  2024-03-01  2024-03-31   \n",
       "75   1076                       None  2024-12-18  2024-02-09  2024-08-31   \n",
       "2    1003  Gl5v8RyWA6PB7po99U9YR2Z4c  2024-09-14  2024-07-26  2024-06-30   \n",
       "\n",
       "     customer_id      score  active       value category product_category  \\\n",
       "312          348  80.772624    True   74.768991      Low      Electronics   \n",
       "75           624  74.013916    True  120.817690   Medium         Clothing   \n",
       "2             56  74.505334   False  122.809963      Low         Clothing   \n",
       "\n",
       "     quantity      price  is_discounted  \n",
       "312         2  40.020129          False  \n",
       "75          2  31.301804          False  \n",
       "2           3  47.137104          False  "
      ]
     },
     "execution_count": 3,
     "metadata": {},
     "output_type": "execute_result"
    }
   ],
   "source": [
    "# read dict from json file\n",
    "with open('/workspaces/work_utils2/notebooks/interestingness/random_data.json', 'r') as f:\n",
    "    specs = json.load(f)\n",
    "\n",
    "# Generate DataFrame\n",
    "df = rd.create_dataframe(specs, n_rows=1000, random_seed=42)\n",
    "df.sample(3)"
   ]
  },
  {
   "cell_type": "markdown",
   "metadata": {},
   "source": [
    "# Filter Data"
   ]
  },
  {
   "cell_type": "code",
   "execution_count": null,
   "metadata": {},
   "outputs": [
    {
     "name": "stdout",
     "output_type": "stream",
     "text": [
      "Available filters:\n",
      "- active_customers\n",
      "- high_value_items\n",
      "- electronics_products\n",
      "- q1_orders\n",
      "- discounted_items\n",
      "- high_quantity\n",
      "- premium_products\n"
     ]
    }
   ],
   "source": [
    "# Load the named filters\n",
    "with open('/workspaces/work_utils2/notebooks/interestingness/filters.json', 'r') as f:\n",
    "    named_filters = json.load(f)\n",
    "    \n",
    "# Display available filter names\n",
    "print(\"Available filters:\")\n",
    "for filter_name in named_filters.keys():\n",
    "    print(f\"- {filter_name}\")"
   ]
  },
  {
   "cell_type": "code",
   "execution_count": null,
   "metadata": {},
   "outputs": [
    {
     "data": {
      "text/html": [
       "<div>\n",
       "<style scoped>\n",
       "    .dataframe tbody tr th:only-of-type {\n",
       "        vertical-align: middle;\n",
       "    }\n",
       "\n",
       "    .dataframe tbody tr th {\n",
       "        vertical-align: top;\n",
       "    }\n",
       "\n",
       "    .dataframe thead th {\n",
       "        text-align: right;\n",
       "    }\n",
       "</style>\n",
       "<table border=\"1\" class=\"dataframe\">\n",
       "  <thead>\n",
       "    <tr style=\"text-align: right;\">\n",
       "      <th></th>\n",
       "      <th>id</th>\n",
       "      <th>name</th>\n",
       "      <th>open_date</th>\n",
       "      <th>open_week</th>\n",
       "      <th>open_month</th>\n",
       "      <th>customer_id</th>\n",
       "      <th>score</th>\n",
       "      <th>active</th>\n",
       "      <th>value</th>\n",
       "      <th>category</th>\n",
       "      <th>product_category</th>\n",
       "      <th>quantity</th>\n",
       "      <th>price</th>\n",
       "      <th>is_discounted</th>\n",
       "    </tr>\n",
       "  </thead>\n",
       "  <tbody>\n",
       "    <tr>\n",
       "      <th>591</th>\n",
       "      <td>1592</td>\n",
       "      <td>ZVTn6G</td>\n",
       "      <td>2024-01-02</td>\n",
       "      <td>2024-11-08</td>\n",
       "      <td>2024-04-30</td>\n",
       "      <td>457</td>\n",
       "      <td>88.351127</td>\n",
       "      <td>True</td>\n",
       "      <td>98.172316</td>\n",
       "      <td>Low</td>\n",
       "      <td>Electronics</td>\n",
       "      <td>3</td>\n",
       "      <td>48.689850</td>\n",
       "      <td>False</td>\n",
       "    </tr>\n",
       "    <tr>\n",
       "      <th>194</th>\n",
       "      <td>1195</td>\n",
       "      <td>None</td>\n",
       "      <td>2024-11-15</td>\n",
       "      <td>2024-11-01</td>\n",
       "      <td>2024-06-30</td>\n",
       "      <td>963</td>\n",
       "      <td>66.819978</td>\n",
       "      <td>True</td>\n",
       "      <td>95.768844</td>\n",
       "      <td>Low</td>\n",
       "      <td>Electronics</td>\n",
       "      <td>5</td>\n",
       "      <td>40.099200</td>\n",
       "      <td>True</td>\n",
       "    </tr>\n",
       "    <tr>\n",
       "      <th>839</th>\n",
       "      <td>1840</td>\n",
       "      <td>74fahGYQuxyU24QsC0j3lG3gq88</td>\n",
       "      <td>2024-08-27</td>\n",
       "      <td>2024-07-26</td>\n",
       "      <td>2024-12-31</td>\n",
       "      <td>990</td>\n",
       "      <td>76.552461</td>\n",
       "      <td>True</td>\n",
       "      <td>102.072213</td>\n",
       "      <td>High</td>\n",
       "      <td>Electronics</td>\n",
       "      <td>2</td>\n",
       "      <td>25.087702</td>\n",
       "      <td>False</td>\n",
       "    </tr>\n",
       "  </tbody>\n",
       "</table>\n",
       "</div>"
      ],
      "text/plain": [
       "       id                         name   open_date   open_week  open_month  \\\n",
       "591  1592                       ZVTn6G  2024-01-02  2024-11-08  2024-04-30   \n",
       "194  1195                         None  2024-11-15  2024-11-01  2024-06-30   \n",
       "839  1840  74fahGYQuxyU24QsC0j3lG3gq88  2024-08-27  2024-07-26  2024-12-31   \n",
       "\n",
       "     customer_id      score  active       value category product_category  \\\n",
       "591          457  88.351127    True   98.172316      Low      Electronics   \n",
       "194          963  66.819978    True   95.768844      Low      Electronics   \n",
       "839          990  76.552461    True  102.072213     High      Electronics   \n",
       "\n",
       "     quantity      price  is_discounted  \n",
       "591         3  48.689850          False  \n",
       "194         5  40.099200           True  \n",
       "839         2  25.087702          False  "
      ]
     },
     "execution_count": 5,
     "metadata": {},
     "output_type": "execute_result"
    }
   ],
   "source": [
    "filter_name = 'active_customers'\n",
    "mask = qt.filters.apply_filter(df, named_filters[filter_name])\n",
    "filtered_df = df[mask]\n",
    "filtered_df.sample(3)"
   ]
  },
  {
   "cell_type": "markdown",
   "metadata": {},
   "source": [
    "# Aggregate Data"
   ]
  },
  {
   "cell_type": "code",
   "execution_count": null,
   "metadata": {},
   "outputs": [
    {
     "data": {
      "text/html": [
       "<div>\n",
       "<style scoped>\n",
       "    .dataframe tbody tr th:only-of-type {\n",
       "        vertical-align: middle;\n",
       "    }\n",
       "\n",
       "    .dataframe tbody tr th {\n",
       "        vertical-align: top;\n",
       "    }\n",
       "\n",
       "    .dataframe thead th {\n",
       "        text-align: right;\n",
       "    }\n",
       "</style>\n",
       "<table border=\"1\" class=\"dataframe\">\n",
       "  <thead>\n",
       "    <tr style=\"text-align: right;\">\n",
       "      <th></th>\n",
       "      <th>product_category</th>\n",
       "      <th>price_count</th>\n",
       "      <th>price_mean</th>\n",
       "      <th>price_var</th>\n",
       "      <th>price_q1</th>\n",
       "      <th>price_q3</th>\n",
       "    </tr>\n",
       "  </thead>\n",
       "  <tbody>\n",
       "    <tr>\n",
       "      <th>0</th>\n",
       "      <td>Books</td>\n",
       "      <td>110</td>\n",
       "      <td>31.609234</td>\n",
       "      <td>873.876393</td>\n",
       "      <td>11.407419</td>\n",
       "      <td>40.652082</td>\n",
       "    </tr>\n",
       "    <tr>\n",
       "      <th>1</th>\n",
       "      <td>Clothing</td>\n",
       "      <td>207</td>\n",
       "      <td>35.133717</td>\n",
       "      <td>2461.301695</td>\n",
       "      <td>10.509025</td>\n",
       "      <td>40.820861</td>\n",
       "    </tr>\n",
       "    <tr>\n",
       "      <th>2</th>\n",
       "      <td>Electronics</td>\n",
       "      <td>241</td>\n",
       "      <td>30.558619</td>\n",
       "      <td>1060.246644</td>\n",
       "      <td>10.377798</td>\n",
       "      <td>36.531489</td>\n",
       "    </tr>\n",
       "    <tr>\n",
       "      <th>3</th>\n",
       "      <td>Food</td>\n",
       "      <td>163</td>\n",
       "      <td>34.112189</td>\n",
       "      <td>1672.623566</td>\n",
       "      <td>10.000000</td>\n",
       "      <td>40.069067</td>\n",
       "    </tr>\n",
       "    <tr>\n",
       "      <th>4</th>\n",
       "      <td>Home</td>\n",
       "      <td>97</td>\n",
       "      <td>31.571118</td>\n",
       "      <td>760.258213</td>\n",
       "      <td>10.296982</td>\n",
       "      <td>44.399389</td>\n",
       "    </tr>\n",
       "  </tbody>\n",
       "</table>\n",
       "</div>"
      ],
      "text/plain": [
       "  product_category  price_count  price_mean    price_var   price_q1   price_q3\n",
       "0            Books          110   31.609234   873.876393  11.407419  40.652082\n",
       "1         Clothing          207   35.133717  2461.301695  10.509025  40.820861\n",
       "2      Electronics          241   30.558619  1060.246644  10.377798  36.531489\n",
       "3             Food          163   34.112189  1672.623566  10.000000  40.069067\n",
       "4             Home           97   31.571118   760.258213  10.296982  44.399389"
      ]
     },
     "execution_count": 6,
     "metadata": {},
     "output_type": "execute_result"
    }
   ],
   "source": [
    "summary_config = {\n",
    "    \"type\": \"summary\",\n",
    "    \"spec\": {\n",
    "        \"groupby\": \"product_category\",\n",
    "        \"columns\": [\"price\"],\n",
    "        \"statistics\": [\"count\", \"mean\", \"var\", \"q1\", \"q3\"]\n",
    "    }\n",
    "}\n",
    "summary_df = qt.aggregations.process_aggregation(filtered_df, summary_config)\n",
    "summary_df"
   ]
  },
  {
   "cell_type": "markdown",
   "metadata": {},
   "source": [
    "# Calculate Interestingness"
   ]
  },
  {
   "cell_type": "code",
   "execution_count": null,
   "metadata": {},
   "outputs": [],
   "source": [
    "import interestingness as it"
   ]
  },
  {
   "cell_type": "code",
   "execution_count": null,
   "metadata": {},
   "outputs": [
    {
     "data": {
      "text/plain": [
       "{'group_variance': np.float64(3.5581370490487143),\n",
       " 'coefficient_of_variation': np.float64(0.05771010162365721),\n",
       " 'max_deviation_ratio': np.float64(0.07782136950804028),\n",
       " 'range_to_mean_ratio': np.float64(0.1403534302612568),\n",
       " 'gini_coefficient': np.float64(0.03159766596945057),\n",
       " 'anova_f_statistic': np.float64(0.48990618508916794),\n",
       " 'anova_p_value': np.float64(0.7431762356693123),\n",
       " 'anova_significant': np.False_,\n",
       " 'effect_size_f': np.float64(0.04909544311098586),\n",
       " 'discriminative_power': np.float64(0.002410362534264049),\n",
       " 'entropy_reduction': np.float64(0.9),\n",
       " 'kruskal_wallis_h_statistic': np.float64(986.9971739128783),\n",
       " 'kruskal_wallis_p_value': np.float64(2.3466694130556784e-212),\n",
       " 'kruskal_wallis_significant': np.True_,\n",
       " 'outlier_groups_outlier_count': 0,\n",
       " 'outlier_groups_outlier_proportion': 0.0,\n",
       " 'outlier_groups_max_z_score': np.float64(1.2977178203376354),\n",
       " 'outlier_groups_outlier_indices': '[]',\n",
       " 'group_separation': np.float64(0.5110826783221051)}"
      ]
     },
     "execution_count": 9,
     "metadata": {},
     "output_type": "execute_result"
    }
   ],
   "source": [
    "base_col = 'price'\n",
    "interestingness_nested = it.evaluate_all_metrics(summary_df, mean_col=f'{base_col}_mean', count_col=f'{base_col}_count', var_col=f'{base_col}_var', percentile_25_col=f'{base_col}_q1', percentile_75_col=f'{base_col}_q3')\n",
    "interestingness_dict = it.flatten_dict(interestingness_nested)\n",
    "interestingness_dict"
   ]
  }
 ],
 "metadata": {
  "kernelspec": {
   "display_name": "Python 3",
   "language": "python",
   "name": "python3"
  },
  "language_info": {
   "codemirror_mode": {
    "name": "ipython",
    "version": 3
   },
   "file_extension": ".py",
   "mimetype": "text/x-python",
   "name": "python",
   "nbconvert_exporter": "python",
   "pygments_lexer": "ipython3",
   "version": "3.12.8"
  }
 },
 "nbformat": 4,
 "nbformat_minor": 2
}
