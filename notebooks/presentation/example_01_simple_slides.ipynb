{
 "cells": [
  {
   "cell_type": "code",
   "execution_count": 1,
   "metadata": {},
   "outputs": [],
   "source": [
    "import os\n",
    "os.chdir('/workspaces/work_utils2')"
   ]
  },
  {
   "cell_type": "code",
   "execution_count": 2,
   "metadata": {},
   "outputs": [],
   "source": [
    "import presentation\n",
    "import pandas as pd\n",
    "import random_dataframe as rd\n",
    "import query_tools as qt"
   ]
  },
  {
   "cell_type": "code",
   "execution_count": 3,
   "metadata": {},
   "outputs": [],
   "source": [
    "ppt = presentation.PowerPointPresentation(template_filepath='presentation/assets/Blank.pptx')"
   ]
  },
  {
   "cell_type": "markdown",
   "metadata": {},
   "source": [
    "# Create Title"
   ]
  },
  {
   "cell_type": "code",
   "execution_count": 4,
   "metadata": {},
   "outputs": [],
   "source": [
    "# slide = ppt.add_slide('Title Only')\n",
    "# slide.set_title(title='Title', subtitle='Subtitle')"
   ]
  },
  {
   "cell_type": "markdown",
   "metadata": {},
   "source": [
    "# Load Mock-up Data"
   ]
  },
  {
   "cell_type": "code",
   "execution_count": 5,
   "metadata": {},
   "outputs": [
    {
     "data": {
      "text/html": [
       "<div>\n",
       "<style scoped>\n",
       "    .dataframe tbody tr th:only-of-type {\n",
       "        vertical-align: middle;\n",
       "    }\n",
       "\n",
       "    .dataframe tbody tr th {\n",
       "        vertical-align: top;\n",
       "    }\n",
       "\n",
       "    .dataframe thead th {\n",
       "        text-align: right;\n",
       "    }\n",
       "</style>\n",
       "<table border=\"1\" class=\"dataframe\">\n",
       "  <thead>\n",
       "    <tr style=\"text-align: right;\">\n",
       "      <th></th>\n",
       "      <th>id</th>\n",
       "      <th>name</th>\n",
       "      <th>open_date</th>\n",
       "      <th>open_week</th>\n",
       "      <th>open_month</th>\n",
       "      <th>customer_id</th>\n",
       "      <th>score</th>\n",
       "      <th>active</th>\n",
       "      <th>value</th>\n",
       "      <th>category</th>\n",
       "      <th>product_category</th>\n",
       "      <th>quantity</th>\n",
       "      <th>price</th>\n",
       "      <th>is_discounted</th>\n",
       "    </tr>\n",
       "  </thead>\n",
       "  <tbody>\n",
       "    <tr>\n",
       "      <th>0</th>\n",
       "      <td>1001</td>\n",
       "      <td>ZCoQh8uM5sw</td>\n",
       "      <td>2024-01-18</td>\n",
       "      <td>2024-09-13</td>\n",
       "      <td>2024-02-29</td>\n",
       "      <td>14</td>\n",
       "      <td>84.772634</td>\n",
       "      <td>True</td>\n",
       "      <td>110.326548</td>\n",
       "      <td>Low</td>\n",
       "      <td>Books</td>\n",
       "      <td>4</td>\n",
       "      <td>20.301470</td>\n",
       "      <td>False</td>\n",
       "    </tr>\n",
       "    <tr>\n",
       "      <th>1</th>\n",
       "      <td>1002</td>\n",
       "      <td>None</td>\n",
       "      <td>2024-05-28</td>\n",
       "      <td>2024-02-16</td>\n",
       "      <td>2024-08-31</td>\n",
       "      <td>482</td>\n",
       "      <td>76.796954</td>\n",
       "      <td>True</td>\n",
       "      <td>105.096745</td>\n",
       "      <td>Medium</td>\n",
       "      <td>Food</td>\n",
       "      <td>1</td>\n",
       "      <td>28.628610</td>\n",
       "      <td>False</td>\n",
       "    </tr>\n",
       "    <tr>\n",
       "      <th>2</th>\n",
       "      <td>1003</td>\n",
       "      <td>Gl5v8RyWA6PB7po99U9YR2Z4c</td>\n",
       "      <td>2024-09-14</td>\n",
       "      <td>2024-07-26</td>\n",
       "      <td>2024-06-30</td>\n",
       "      <td>56</td>\n",
       "      <td>74.505334</td>\n",
       "      <td>False</td>\n",
       "      <td>122.809963</td>\n",
       "      <td>Low</td>\n",
       "      <td>Clothing</td>\n",
       "      <td>3</td>\n",
       "      <td>47.137104</td>\n",
       "      <td>False</td>\n",
       "    </tr>\n",
       "  </tbody>\n",
       "</table>\n",
       "</div>"
      ],
      "text/plain": [
       "     id                       name   open_date   open_week  open_month  \\\n",
       "0  1001                ZCoQh8uM5sw  2024-01-18  2024-09-13  2024-02-29   \n",
       "1  1002                       None  2024-05-28  2024-02-16  2024-08-31   \n",
       "2  1003  Gl5v8RyWA6PB7po99U9YR2Z4c  2024-09-14  2024-07-26  2024-06-30   \n",
       "\n",
       "   customer_id      score  active       value category product_category  \\\n",
       "0           14  84.772634    True  110.326548      Low            Books   \n",
       "1          482  76.796954    True  105.096745   Medium             Food   \n",
       "2           56  74.505334   False  122.809963      Low         Clothing   \n",
       "\n",
       "   quantity      price  is_discounted  \n",
       "0         4  20.301470          False  \n",
       "1         1  28.628610          False  \n",
       "2         3  47.137104          False  "
      ]
     },
     "execution_count": 5,
     "metadata": {},
     "output_type": "execute_result"
    }
   ],
   "source": [
    "import json\n",
    "with open('/workspaces/work_utils2/notebooks/creating_random_data/example_03.json', 'r') as f:\n",
    "    specs = json.load(f)\n",
    "df = rd.create_dataframe(specs, n_rows=1000, random_seed=42)\n",
    "df.head(3)"
   ]
  },
  {
   "cell_type": "markdown",
   "metadata": {},
   "source": [
    "## Slide 1"
   ]
  },
  {
   "cell_type": "code",
   "execution_count": 6,
   "metadata": {},
   "outputs": [
    {
     "data": {
      "text/html": [
       "<div>\n",
       "<style scoped>\n",
       "    .dataframe tbody tr th:only-of-type {\n",
       "        vertical-align: middle;\n",
       "    }\n",
       "\n",
       "    .dataframe tbody tr th {\n",
       "        vertical-align: top;\n",
       "    }\n",
       "\n",
       "    .dataframe thead th {\n",
       "        text-align: right;\n",
       "    }\n",
       "</style>\n",
       "<table border=\"1\" class=\"dataframe\">\n",
       "  <thead>\n",
       "    <tr style=\"text-align: right;\">\n",
       "      <th></th>\n",
       "      <th>Customer Count</th>\n",
       "      <th>Avg Price</th>\n",
       "      <th>Total Quantity</th>\n",
       "      <th>Discount Rate</th>\n",
       "    </tr>\n",
       "    <tr>\n",
       "      <th>product_category</th>\n",
       "      <th></th>\n",
       "      <th></th>\n",
       "      <th></th>\n",
       "      <th></th>\n",
       "    </tr>\n",
       "  </thead>\n",
       "  <tbody>\n",
       "    <tr>\n",
       "      <th>Books</th>\n",
       "      <td>130</td>\n",
       "      <td>31.386237</td>\n",
       "      <td>385</td>\n",
       "      <td>0.279720</td>\n",
       "    </tr>\n",
       "    <tr>\n",
       "      <th>Clothing</th>\n",
       "      <td>226</td>\n",
       "      <td>34.698821</td>\n",
       "      <td>702</td>\n",
       "      <td>0.322835</td>\n",
       "    </tr>\n",
       "    <tr>\n",
       "      <th>Electronics</th>\n",
       "      <td>257</td>\n",
       "      <td>31.499103</td>\n",
       "      <td>787</td>\n",
       "      <td>0.323944</td>\n",
       "    </tr>\n",
       "    <tr>\n",
       "      <th>Food</th>\n",
       "      <td>182</td>\n",
       "      <td>34.697477</td>\n",
       "      <td>496</td>\n",
       "      <td>0.285000</td>\n",
       "    </tr>\n",
       "    <tr>\n",
       "      <th>Home</th>\n",
       "      <td>112</td>\n",
       "      <td>35.230801</td>\n",
       "      <td>316</td>\n",
       "      <td>0.277311</td>\n",
       "    </tr>\n",
       "  </tbody>\n",
       "</table>\n",
       "</div>"
      ],
      "text/plain": [
       "                  Customer Count  Avg Price  Total Quantity  Discount Rate\n",
       "product_category                                                          \n",
       "Books                        130  31.386237             385       0.279720\n",
       "Clothing                     226  34.698821             702       0.322835\n",
       "Electronics                  257  31.499103             787       0.323944\n",
       "Food                         182  34.697477             496       0.285000\n",
       "Home                         112  35.230801             316       0.277311"
      ]
     },
     "execution_count": 6,
     "metadata": {},
     "output_type": "execute_result"
    }
   ],
   "source": [
    "agg_config = {\n",
    "    \"type\": \"aggregation\",\n",
    "    \"spec\": {\n",
    "        \"groupby\": [\"product_category\"],\n",
    "        \"aggregations\": [\n",
    "            {\"column\": \"customer_id\", \"function\": \"nunique\", \"name\": \"Customer Count\"},\n",
    "            {\"column\": \"price\", \"function\": \"mean\", \"name\": \"Avg Price\"},\n",
    "            {\"column\": \"quantity\", \"function\": \"sum\", \"name\": \"Total Quantity\"},\n",
    "            {\"column\": \"is_discounted\", \"function\": \"mean\", \"name\": \"Discount Rate\"},\n",
    "        ]\n",
    "    }\n",
    "}\n",
    "agg_df = qt.aggregations.process_aggregation(df, agg_config) \\\n",
    "    .set_index(agg_config['spec']['groupby'])\n",
    "agg_df"
   ]
  },
  {
   "cell_type": "code",
   "execution_count": null,
   "metadata": {},
   "outputs": [],
   "source": [
    "style_settings = {\n",
    "    \"header\": {\n",
    "        \"fill\": \"#FFFFFF\",\n",
    "        \"vertical_alignment\": \"middle\",\n",
    "        \"horizontal_alignment\": \"left\",\n",
    "        \"font\": {\n",
    "            \"color\": \"#000000\",\n",
    "            \"bold\": True,\n",
    "            \"size\": 11,\n",
    "            \"name\": \"Arial\"\n",
    "        }\n",
    "    },\n",
    "    \"defaults\": {\n",
    "        \"fill\": \"#FFFFFF\",\n",
    "        \"font\": {\n",
    "            \"color\": \"#000000\",\n",
    "            \"bold\": False,\n",
    "            \"size\": 11,\n",
    "            \"name\": \"Arial\"\n",
    "        }\n",
    "    },\n",
    "    \"column_labels\": {\n",
    "        \"product_category\": \"Product Category\",\n",
    "        \"sales_amount\": \"Sales ($)\",\n",
    "        \"units_sold\": \"Units\",\n",
    "        \"profit_margin\": \"Profit %\",\n",
    "        \"growth_rate\": \"Growth\",\n",
    "        \"is_discounted\": \"Discounted\",\n",
    "    },\n",
    "    \"column_widths\": {\n",
    "        \"product_category\": 1.5,\n",
    "        \"sales_amount\": 1.0,\n",
    "        \"units_sold\": 1.0,\n",
    "        \"profit_margin\": 1.0,\n",
    "        \"growth_rate\": 1.0,\n",
    "        \"is_discounted\": 1.0,\n",
    "    },\n",
    "    \"number_formats\": {\n",
    "        \"Customer Count\": \",.0f\",\n",
    "        \"Avg Price\": \"$,.2f\",\n",
    "        \"Total Quantity\": \",\",\n",
    "        \"Discount Rate\": \".1%\",\n",
    "    }\n",
    "}"
   ]
  },
  {
   "cell_type": "code",
   "execution_count": 8,
   "metadata": {},
   "outputs": [
    {
     "data": {
      "text/plain": [
       "<pptx.table.Table at 0x7f50826ef350>"
      ]
     },
     "execution_count": 8,
     "metadata": {},
     "output_type": "execute_result"
    }
   ],
   "source": [
    "slide = ppt.add_slide('Title Only')\n",
    "slide.set_title(title='Data', subtitle='Aggregation 1')\n",
    "slide.add_table(data=agg_df, left=0.5, top=1.5, width=8, height=3, style_settings=style_settings)"
   ]
  },
  {
   "cell_type": "markdown",
   "metadata": {},
   "source": [
    "# Slide 2"
   ]
  },
  {
   "cell_type": "code",
   "execution_count": 9,
   "metadata": {},
   "outputs": [
    {
     "data": {
      "text/html": [
       "<div>\n",
       "<style scoped>\n",
       "    .dataframe tbody tr th:only-of-type {\n",
       "        vertical-align: middle;\n",
       "    }\n",
       "\n",
       "    .dataframe tbody tr th {\n",
       "        vertical-align: top;\n",
       "    }\n",
       "\n",
       "    .dataframe thead th {\n",
       "        text-align: right;\n",
       "    }\n",
       "</style>\n",
       "<table border=\"1\" class=\"dataframe\">\n",
       "  <thead>\n",
       "    <tr style=\"text-align: right;\">\n",
       "      <th></th>\n",
       "      <th></th>\n",
       "      <th>Customer Count</th>\n",
       "      <th>Avg Price</th>\n",
       "      <th>Total Quantity</th>\n",
       "      <th>Discount Rate</th>\n",
       "    </tr>\n",
       "    <tr>\n",
       "      <th>product_category</th>\n",
       "      <th>is_discounted</th>\n",
       "      <th></th>\n",
       "      <th></th>\n",
       "      <th></th>\n",
       "      <th></th>\n",
       "    </tr>\n",
       "  </thead>\n",
       "  <tbody>\n",
       "    <tr>\n",
       "      <th rowspan=\"2\" valign=\"top\">Books</th>\n",
       "      <th>False</th>\n",
       "      <td>94</td>\n",
       "      <td>30.707658</td>\n",
       "      <td>278</td>\n",
       "      <td>0.0</td>\n",
       "    </tr>\n",
       "    <tr>\n",
       "      <th>True</th>\n",
       "      <td>40</td>\n",
       "      <td>33.133576</td>\n",
       "      <td>107</td>\n",
       "      <td>1.0</td>\n",
       "    </tr>\n",
       "    <tr>\n",
       "      <th rowspan=\"2\" valign=\"top\">Clothing</th>\n",
       "      <th>False</th>\n",
       "      <td>160</td>\n",
       "      <td>35.138506</td>\n",
       "      <td>489</td>\n",
       "      <td>0.0</td>\n",
       "    </tr>\n",
       "    <tr>\n",
       "      <th>True</th>\n",
       "      <td>81</td>\n",
       "      <td>33.776553</td>\n",
       "      <td>213</td>\n",
       "      <td>1.0</td>\n",
       "    </tr>\n",
       "    <tr>\n",
       "      <th rowspan=\"2\" valign=\"top\">Electronics</th>\n",
       "      <th>False</th>\n",
       "      <td>176</td>\n",
       "      <td>33.324410</td>\n",
       "      <td>517</td>\n",
       "      <td>0.0</td>\n",
       "    </tr>\n",
       "    <tr>\n",
       "      <th>True</th>\n",
       "      <td>91</td>\n",
       "      <td>27.689767</td>\n",
       "      <td>270</td>\n",
       "      <td>1.0</td>\n",
       "    </tr>\n",
       "    <tr>\n",
       "      <th rowspan=\"2\" valign=\"top\">Food</th>\n",
       "      <th>False</th>\n",
       "      <td>129</td>\n",
       "      <td>35.511080</td>\n",
       "      <td>366</td>\n",
       "      <td>0.0</td>\n",
       "    </tr>\n",
       "    <tr>\n",
       "      <th>True</th>\n",
       "      <td>57</td>\n",
       "      <td>32.656334</td>\n",
       "      <td>130</td>\n",
       "      <td>1.0</td>\n",
       "    </tr>\n",
       "    <tr>\n",
       "      <th rowspan=\"2\" valign=\"top\">Home</th>\n",
       "      <th>False</th>\n",
       "      <td>81</td>\n",
       "      <td>32.077423</td>\n",
       "      <td>232</td>\n",
       "      <td>0.0</td>\n",
       "    </tr>\n",
       "    <tr>\n",
       "      <th>True</th>\n",
       "      <td>31</td>\n",
       "      <td>43.448693</td>\n",
       "      <td>84</td>\n",
       "      <td>1.0</td>\n",
       "    </tr>\n",
       "  </tbody>\n",
       "</table>\n",
       "</div>"
      ],
      "text/plain": [
       "                                Customer Count  Avg Price  Total Quantity  \\\n",
       "product_category is_discounted                                              \n",
       "Books            False                      94  30.707658             278   \n",
       "                 True                       40  33.133576             107   \n",
       "Clothing         False                     160  35.138506             489   \n",
       "                 True                       81  33.776553             213   \n",
       "Electronics      False                     176  33.324410             517   \n",
       "                 True                       91  27.689767             270   \n",
       "Food             False                     129  35.511080             366   \n",
       "                 True                       57  32.656334             130   \n",
       "Home             False                      81  32.077423             232   \n",
       "                 True                       31  43.448693              84   \n",
       "\n",
       "                                Discount Rate  \n",
       "product_category is_discounted                 \n",
       "Books            False                    0.0  \n",
       "                 True                     1.0  \n",
       "Clothing         False                    0.0  \n",
       "                 True                     1.0  \n",
       "Electronics      False                    0.0  \n",
       "                 True                     1.0  \n",
       "Food             False                    0.0  \n",
       "                 True                     1.0  \n",
       "Home             False                    0.0  \n",
       "                 True                     1.0  "
      ]
     },
     "execution_count": 9,
     "metadata": {},
     "output_type": "execute_result"
    }
   ],
   "source": [
    "agg_config = {\n",
    "    \"type\": \"aggregation\",\n",
    "    \"spec\": {\n",
    "        \"groupby\": [\"product_category\", \"is_discounted\"],\n",
    "        \"aggregations\": [\n",
    "            {\"column\": \"customer_id\", \"function\": \"nunique\", \"name\": \"Customer Count\"},\n",
    "            {\"column\": \"price\", \"function\": \"mean\", \"name\": \"Avg Price\"},\n",
    "            {\"column\": \"quantity\", \"function\": \"sum\", \"name\": \"Total Quantity\"},\n",
    "            {\"column\": \"is_discounted\", \"function\": \"mean\", \"name\": \"Discount Rate\"},\n",
    "        ]\n",
    "    }\n",
    "}\n",
    "agg_df = qt.aggregations.process_aggregation(df, agg_config) \\\n",
    "    .set_index(agg_config['spec']['groupby'])\n",
    "agg_df"
   ]
  },
  {
   "cell_type": "code",
   "execution_count": 10,
   "metadata": {},
   "outputs": [
    {
     "data": {
      "text/plain": [
       "<pptx.table.Table at 0x7f50839d5bb0>"
      ]
     },
     "execution_count": 10,
     "metadata": {},
     "output_type": "execute_result"
    }
   ],
   "source": [
    "slide = ppt.add_slide('Title Only')\n",
    "slide.set_title(title='Data', subtitle='Aggregation 2')\n",
    "slide.add_table(data=agg_df, left=0.5, top=1.5, width=8, height=3, style_settings=style_settings)"
   ]
  },
  {
   "cell_type": "markdown",
   "metadata": {},
   "source": [
    "# Save Presentation"
   ]
  },
  {
   "cell_type": "code",
   "execution_count": 11,
   "metadata": {},
   "outputs": [],
   "source": [
    "ppt.save('test.pptx')"
   ]
  },
  {
   "cell_type": "code",
   "execution_count": 12,
   "metadata": {},
   "outputs": [
    {
     "data": {
      "image/png": "[encoded data removed]",
      "text/plain": [
       "<Figure size 600x400 with 1 Axes>"
      ]
     },
     "metadata": {},
     "output_type": "display_data"
    },
    {
     "data": {
      "image/png": "[encoded data removed]",
      "text/plain": [
       "<Figure size 600x400 with 1 Axes>"
      ]
     },
     "metadata": {},
     "output_type": "display_data"
    }
   ],
   "source": [
    "from presentation.pptx_preview import preview_presentation\n",
    "# Preview an existing presentation\n",
    "preview_presentation(ppt, figsize=(12/2, 8/2), dpi=50)"
   ]
  },
  {
   "cell_type": "code",
   "execution_count": null,
   "metadata": {},
   "outputs": [],
   "source": []
  }
 ],
 "metadata": {
  "kernelspec": {
   "display_name": "Python 3",
   "language": "python",
   "name": "python3"
  },
  "language_info": {
   "codemirror_mode": {
    "name": "ipython",
    "version": 3
   },
   "file_extension": ".py",
   "mimetype": "text/x-python",
   "name": "python",
   "nbconvert_exporter": "python",
   "pygments_lexer": "ipython3",
   "version": "3.12.8"
  }
 },
 "nbformat": 4,
 "nbformat_minor": 2
}
