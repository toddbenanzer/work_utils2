{
 "cells": [
  {
   "cell_type": "code",
   "execution_count": 1,
   "metadata": {},
   "outputs": [],
   "source": [
    "import os\n",
    "os.chdir('/workspaces/work_utils2')"
   ]
  },
  {
   "cell_type": "code",
   "execution_count": 2,
   "metadata": {},
   "outputs": [],
   "source": [
    "import presentation\n",
    "import pandas as pd\n",
    "import random_dataframe as rd\n",
    "import query_tools as qt"
   ]
  },
  {
   "cell_type": "code",
   "execution_count": 3,
   "metadata": {},
   "outputs": [],
   "source": [
    "ppt = presentation.PowerPointPresentation(template_filepath='presentation/assets/Blank.pptx')"
   ]
  },
  {
   "cell_type": "markdown",
   "metadata": {},
   "source": [
    "# Create Title"
   ]
  },
  {
   "cell_type": "code",
   "execution_count": 4,
   "metadata": {},
   "outputs": [],
   "source": [
    "# slide = ppt.add_slide('Title Only')\n",
    "# slide.set_title(title='Title', subtitle='Subtitle')"
   ]
  },
  {
   "cell_type": "markdown",
   "metadata": {},
   "source": [
    "# Load Mock-up Data"
   ]
  },
  {
   "cell_type": "code",
   "execution_count": 5,
   "metadata": {},
   "outputs": [
    {
     "data": {
      "text/html": [
       "<div>\n",
       "<style scoped>\n",
       "    .dataframe tbody tr th:only-of-type {\n",
       "        vertical-align: middle;\n",
       "    }\n",
       "\n",
       "    .dataframe tbody tr th {\n",
       "        vertical-align: top;\n",
       "    }\n",
       "\n",
       "    .dataframe thead th {\n",
       "        text-align: right;\n",
       "    }\n",
       "</style>\n",
       "<table border=\"1\" class=\"dataframe\">\n",
       "  <thead>\n",
       "    <tr style=\"text-align: right;\">\n",
       "      <th></th>\n",
       "      <th>id</th>\n",
       "      <th>name</th>\n",
       "      <th>open_date</th>\n",
       "      <th>open_week</th>\n",
       "      <th>open_month</th>\n",
       "      <th>customer_id</th>\n",
       "      <th>score</th>\n",
       "      <th>active</th>\n",
       "      <th>value</th>\n",
       "      <th>category</th>\n",
       "      <th>product_category</th>\n",
       "      <th>quantity</th>\n",
       "      <th>price</th>\n",
       "      <th>is_discounted</th>\n",
       "    </tr>\n",
       "  </thead>\n",
       "  <tbody>\n",
       "    <tr>\n",
       "      <th>0</th>\n",
       "      <td>1001</td>\n",
       "      <td>ZCoQh8uM5sw</td>\n",
       "      <td>2024-01-18</td>\n",
       "      <td>2024-09-13</td>\n",
       "      <td>2024-02-29</td>\n",
       "      <td>14</td>\n",
       "      <td>84.772634</td>\n",
       "      <td>True</td>\n",
       "      <td>110.326548</td>\n",
       "      <td>Low</td>\n",
       "      <td>Books</td>\n",
       "      <td>4</td>\n",
       "      <td>20.301470</td>\n",
       "      <td>False</td>\n",
       "    </tr>\n",
       "    <tr>\n",
       "      <th>1</th>\n",
       "      <td>1002</td>\n",
       "      <td>None</td>\n",
       "      <td>2024-05-28</td>\n",
       "      <td>2024-02-16</td>\n",
       "      <td>2024-08-31</td>\n",
       "      <td>482</td>\n",
       "      <td>76.796954</td>\n",
       "      <td>True</td>\n",
       "      <td>105.096745</td>\n",
       "      <td>Medium</td>\n",
       "      <td>Food</td>\n",
       "      <td>1</td>\n",
       "      <td>28.628610</td>\n",
       "      <td>False</td>\n",
       "    </tr>\n",
       "    <tr>\n",
       "      <th>2</th>\n",
       "      <td>1003</td>\n",
       "      <td>Gl5v8RyWA6PB7po99U9YR2Z4c</td>\n",
       "      <td>2024-09-14</td>\n",
       "      <td>2024-07-26</td>\n",
       "      <td>2024-06-30</td>\n",
       "      <td>56</td>\n",
       "      <td>74.505334</td>\n",
       "      <td>False</td>\n",
       "      <td>122.809963</td>\n",
       "      <td>Low</td>\n",
       "      <td>Clothing</td>\n",
       "      <td>3</td>\n",
       "      <td>47.137104</td>\n",
       "      <td>False</td>\n",
       "    </tr>\n",
       "  </tbody>\n",
       "</table>\n",
       "</div>"
      ],
      "text/plain": [
       "     id                       name   open_date   open_week  open_month  \\\n",
       "0  1001                ZCoQh8uM5sw  2024-01-18  2024-09-13  2024-02-29   \n",
       "1  1002                       None  2024-05-28  2024-02-16  2024-08-31   \n",
       "2  1003  Gl5v8RyWA6PB7po99U9YR2Z4c  2024-09-14  2024-07-26  2024-06-30   \n",
       "\n",
       "   customer_id      score  active       value category product_category  \\\n",
       "0           14  84.772634    True  110.326548      Low            Books   \n",
       "1          482  76.796954    True  105.096745   Medium             Food   \n",
       "2           56  74.505334   False  122.809963      Low         Clothing   \n",
       "\n",
       "   quantity      price  is_discounted  \n",
       "0         4  20.301470          False  \n",
       "1         1  28.628610          False  \n",
       "2         3  47.137104          False  "
      ]
     },
     "execution_count": 5,
     "metadata": {},
     "output_type": "execute_result"
    }
   ],
   "source": [
    "import json\n",
    "with open('/workspaces/work_utils2/notebooks/creating_random_data/example_03.json', 'r') as f:\n",
    "    specs = json.load(f)\n",
    "df = rd.create_dataframe(specs, n_rows=1000, random_seed=42)\n",
    "df.head(3)"
   ]
  },
  {
   "cell_type": "markdown",
   "metadata": {},
   "source": [
    "## Slide 1"
   ]
  },
  {
   "cell_type": "code",
   "execution_count": 6,
   "metadata": {},
   "outputs": [
    {
     "data": {
      "text/html": [
       "<div>\n",
       "<style scoped>\n",
       "    .dataframe tbody tr th:only-of-type {\n",
       "        vertical-align: middle;\n",
       "    }\n",
       "\n",
       "    .dataframe tbody tr th {\n",
       "        vertical-align: top;\n",
       "    }\n",
       "\n",
       "    .dataframe thead th {\n",
       "        text-align: right;\n",
       "    }\n",
       "</style>\n",
       "<table border=\"1\" class=\"dataframe\">\n",
       "  <thead>\n",
       "    <tr style=\"text-align: right;\">\n",
       "      <th></th>\n",
       "      <th>product_category</th>\n",
       "      <th>Customer Count</th>\n",
       "      <th>Avg Price</th>\n",
       "      <th>Total Quantity</th>\n",
       "      <th>Discount Rate</th>\n",
       "    </tr>\n",
       "  </thead>\n",
       "  <tbody>\n",
       "    <tr>\n",
       "      <th>0</th>\n",
       "      <td>Books</td>\n",
       "      <td>130</td>\n",
       "      <td>31.386237</td>\n",
       "      <td>385</td>\n",
       "      <td>0.279720</td>\n",
       "    </tr>\n",
       "    <tr>\n",
       "      <th>1</th>\n",
       "      <td>Clothing</td>\n",
       "      <td>226</td>\n",
       "      <td>34.698821</td>\n",
       "      <td>702</td>\n",
       "      <td>0.322835</td>\n",
       "    </tr>\n",
       "    <tr>\n",
       "      <th>2</th>\n",
       "      <td>Electronics</td>\n",
       "      <td>257</td>\n",
       "      <td>31.499103</td>\n",
       "      <td>787</td>\n",
       "      <td>0.323944</td>\n",
       "    </tr>\n",
       "    <tr>\n",
       "      <th>3</th>\n",
       "      <td>Food</td>\n",
       "      <td>182</td>\n",
       "      <td>34.697477</td>\n",
       "      <td>496</td>\n",
       "      <td>0.285000</td>\n",
       "    </tr>\n",
       "    <tr>\n",
       "      <th>4</th>\n",
       "      <td>Home</td>\n",
       "      <td>112</td>\n",
       "      <td>35.230801</td>\n",
       "      <td>316</td>\n",
       "      <td>0.277311</td>\n",
       "    </tr>\n",
       "  </tbody>\n",
       "</table>\n",
       "</div>"
      ],
      "text/plain": [
       "  product_category  Customer Count  Avg Price  Total Quantity  Discount Rate\n",
       "0            Books             130  31.386237             385       0.279720\n",
       "1         Clothing             226  34.698821             702       0.322835\n",
       "2      Electronics             257  31.499103             787       0.323944\n",
       "3             Food             182  34.697477             496       0.285000\n",
       "4             Home             112  35.230801             316       0.277311"
      ]
     },
     "execution_count": 6,
     "metadata": {},
     "output_type": "execute_result"
    }
   ],
   "source": [
    "agg_config = {\n",
    "    \"type\": \"aggregation\",\n",
    "    \"spec\": {\n",
    "        \"groupby\": [\"product_category\"],\n",
    "        \"aggregations\": [\n",
    "            {\"column\": \"customer_id\", \"function\": \"nunique\", \"name\": \"Customer Count\"},\n",
    "            {\"column\": \"price\", \"function\": \"mean\", \"name\": \"Avg Price\"},\n",
    "            {\"column\": \"quantity\", \"function\": \"sum\", \"name\": \"Total Quantity\"},\n",
    "            {\"column\": \"is_discounted\", \"function\": \"mean\", \"name\": \"Discount Rate\"},\n",
    "        ]\n",
    "    }\n",
    "}\n",
    "agg_df = qt.aggregations.process_aggregation(df, agg_config)\n",
    "agg_df"
   ]
  },
  {
   "cell_type": "code",
   "execution_count": 7,
   "metadata": {},
   "outputs": [],
   "source": [
    "style_settings = {\n",
    "    \"header\": {\n",
    "        \"fill\": \"#FFFFFF\",\n",
    "        \"vertical_alignment\": \"middle\",\n",
    "        \"horizontal_alignment\": \"left\",\n",
    "        \"font\": {\n",
    "            \"color\": \"#000000\",\n",
    "            \"bold\": True,\n",
    "            \"size\": 11,\n",
    "            \"name\": \"Arial\"\n",
    "        }\n",
    "    },\n",
    "    \"defaults\": {\n",
    "        \"fill\": \"#FFFFFF\",\n",
    "        \"font\": {\n",
    "            \"color\": \"#000000\",\n",
    "            \"bold\": False,\n",
    "            \"size\": 11,\n",
    "            \"name\": \"Arial\"\n",
    "        }\n",
    "    },\n",
    "    \"number_formats\": {\n",
    "        \"Customer Count\": {\"type\": \"number\", \"decimal_places\": 0},\n",
    "        \"Avg Price\": {\"type\": \"currency\", \"decimal_places\": 2, \"symbol\": \"$\"},\n",
    "        \"Total Quantity\": {\"type\": \"number\", \"decimal_places\": 0},\n",
    "        \"Discount Rate\": {\"type\": \"percentage\", \"decimal_places\": 1},\n",
    "    }\n",
    "\n",
    "    #             \"Sales\": {\"type\": \"currency\", \"decimal_places\": 0, \"symbol\": \"$\"},\n",
    "#             \"Quota\": {\"type\": \"currency\", \"decimal_places\": 0, \"symbol\": \"$\"},\n",
    "#             \"Variance\": {\"type\": \"percentage\", \"decimal_places\": 1},\n",
    "}"
   ]
  },
  {
   "cell_type": "code",
   "execution_count": 8,
   "metadata": {},
   "outputs": [
    {
     "data": {
      "text/plain": [
       "<pptx.table.Table at 0x7f31ec1dbce0>"
      ]
     },
     "execution_count": 8,
     "metadata": {},
     "output_type": "execute_result"
    }
   ],
   "source": [
    "slide = ppt.add_slide('Title Only')\n",
    "slide.set_title(title='Data', subtitle='Aggregation 1')\n",
    "slide.add_table(data=agg_df, style_settings=style_settings)"
   ]
  },
  {
   "cell_type": "markdown",
   "metadata": {},
   "source": [
    "# Slide 2"
   ]
  },
  {
   "cell_type": "code",
   "execution_count": 9,
   "metadata": {},
   "outputs": [
    {
     "data": {
      "text/html": [
       "<div>\n",
       "<style scoped>\n",
       "    .dataframe tbody tr th:only-of-type {\n",
       "        vertical-align: middle;\n",
       "    }\n",
       "\n",
       "    .dataframe tbody tr th {\n",
       "        vertical-align: top;\n",
       "    }\n",
       "\n",
       "    .dataframe thead th {\n",
       "        text-align: right;\n",
       "    }\n",
       "</style>\n",
       "<table border=\"1\" class=\"dataframe\">\n",
       "  <thead>\n",
       "    <tr style=\"text-align: right;\">\n",
       "      <th></th>\n",
       "      <th>product_category</th>\n",
       "      <th>is_discounted</th>\n",
       "      <th>Customer Count</th>\n",
       "      <th>Avg Price</th>\n",
       "      <th>Total Quantity</th>\n",
       "      <th>Discount Rate</th>\n",
       "    </tr>\n",
       "  </thead>\n",
       "  <tbody>\n",
       "    <tr>\n",
       "      <th>0</th>\n",
       "      <td>Books</td>\n",
       "      <td>False</td>\n",
       "      <td>94</td>\n",
       "      <td>30.707658</td>\n",
       "      <td>278</td>\n",
       "      <td>0.0</td>\n",
       "    </tr>\n",
       "    <tr>\n",
       "      <th>1</th>\n",
       "      <td>Books</td>\n",
       "      <td>True</td>\n",
       "      <td>40</td>\n",
       "      <td>33.133576</td>\n",
       "      <td>107</td>\n",
       "      <td>1.0</td>\n",
       "    </tr>\n",
       "    <tr>\n",
       "      <th>2</th>\n",
       "      <td>Clothing</td>\n",
       "      <td>False</td>\n",
       "      <td>160</td>\n",
       "      <td>35.138506</td>\n",
       "      <td>489</td>\n",
       "      <td>0.0</td>\n",
       "    </tr>\n",
       "    <tr>\n",
       "      <th>3</th>\n",
       "      <td>Clothing</td>\n",
       "      <td>True</td>\n",
       "      <td>81</td>\n",
       "      <td>33.776553</td>\n",
       "      <td>213</td>\n",
       "      <td>1.0</td>\n",
       "    </tr>\n",
       "    <tr>\n",
       "      <th>4</th>\n",
       "      <td>Electronics</td>\n",
       "      <td>False</td>\n",
       "      <td>176</td>\n",
       "      <td>33.324410</td>\n",
       "      <td>517</td>\n",
       "      <td>0.0</td>\n",
       "    </tr>\n",
       "    <tr>\n",
       "      <th>5</th>\n",
       "      <td>Electronics</td>\n",
       "      <td>True</td>\n",
       "      <td>91</td>\n",
       "      <td>27.689767</td>\n",
       "      <td>270</td>\n",
       "      <td>1.0</td>\n",
       "    </tr>\n",
       "    <tr>\n",
       "      <th>6</th>\n",
       "      <td>Food</td>\n",
       "      <td>False</td>\n",
       "      <td>129</td>\n",
       "      <td>35.511080</td>\n",
       "      <td>366</td>\n",
       "      <td>0.0</td>\n",
       "    </tr>\n",
       "    <tr>\n",
       "      <th>7</th>\n",
       "      <td>Food</td>\n",
       "      <td>True</td>\n",
       "      <td>57</td>\n",
       "      <td>32.656334</td>\n",
       "      <td>130</td>\n",
       "      <td>1.0</td>\n",
       "    </tr>\n",
       "    <tr>\n",
       "      <th>8</th>\n",
       "      <td>Home</td>\n",
       "      <td>False</td>\n",
       "      <td>81</td>\n",
       "      <td>32.077423</td>\n",
       "      <td>232</td>\n",
       "      <td>0.0</td>\n",
       "    </tr>\n",
       "    <tr>\n",
       "      <th>9</th>\n",
       "      <td>Home</td>\n",
       "      <td>True</td>\n",
       "      <td>31</td>\n",
       "      <td>43.448693</td>\n",
       "      <td>84</td>\n",
       "      <td>1.0</td>\n",
       "    </tr>\n",
       "  </tbody>\n",
       "</table>\n",
       "</div>"
      ],
      "text/plain": [
       "  product_category  is_discounted  Customer Count  Avg Price  Total Quantity  \\\n",
       "0            Books          False              94  30.707658             278   \n",
       "1            Books           True              40  33.133576             107   \n",
       "2         Clothing          False             160  35.138506             489   \n",
       "3         Clothing           True              81  33.776553             213   \n",
       "4      Electronics          False             176  33.324410             517   \n",
       "5      Electronics           True              91  27.689767             270   \n",
       "6             Food          False             129  35.511080             366   \n",
       "7             Food           True              57  32.656334             130   \n",
       "8             Home          False              81  32.077423             232   \n",
       "9             Home           True              31  43.448693              84   \n",
       "\n",
       "   Discount Rate  \n",
       "0            0.0  \n",
       "1            1.0  \n",
       "2            0.0  \n",
       "3            1.0  \n",
       "4            0.0  \n",
       "5            1.0  \n",
       "6            0.0  \n",
       "7            1.0  \n",
       "8            0.0  \n",
       "9            1.0  "
      ]
     },
     "execution_count": 9,
     "metadata": {},
     "output_type": "execute_result"
    }
   ],
   "source": [
    "agg_config = {\n",
    "    \"type\": \"aggregation\",\n",
    "    \"spec\": {\n",
    "        \"groupby\": [\"product_category\", \"is_discounted\"],\n",
    "        \"aggregations\": [\n",
    "            {\"column\": \"customer_id\", \"function\": \"nunique\", \"name\": \"Customer Count\"},\n",
    "            {\"column\": \"price\", \"function\": \"mean\", \"name\": \"Avg Price\"},\n",
    "            {\"column\": \"quantity\", \"function\": \"sum\", \"name\": \"Total Quantity\"},\n",
    "            {\"column\": \"is_discounted\", \"function\": \"mean\", \"name\": \"Discount Rate\"},\n",
    "        ]\n",
    "    }\n",
    "}\n",
    "agg_df = qt.aggregations.process_aggregation(df, agg_config)\n",
    "agg_df"
   ]
  },
  {
   "cell_type": "code",
   "execution_count": 10,
   "metadata": {},
   "outputs": [
    {
     "data": {
      "text/plain": [
       "<pptx.table.Table at 0x7f31ec09f8f0>"
      ]
     },
     "execution_count": 10,
     "metadata": {},
     "output_type": "execute_result"
    }
   ],
   "source": [
    "slide = ppt.add_slide('Title Only')\n",
    "slide.set_title(title='Data', subtitle='Aggregation 2')\n",
    "\n",
    "style_settings =  {\n",
    "        \"position\": {\"left\": 0.5, \"top\": 1.2},\n",
    "        \"col_widths\": [\n",
    "            1.0,\n",
    "            1.5,\n",
    "            0.7,\n",
    "            0.7,\n",
    "            0.7,\n",
    "            0.7,\n",
    "            0.7,\n",
    "        ],  # Adjusted width for longer product name\n",
    "        \"row_heights\": 0.3,\n",
    "}\n",
    "slide.add_table(data=agg_df, style_settings=style_settings)"
   ]
  },
  {
   "cell_type": "code",
   "execution_count": 11,
   "metadata": {},
   "outputs": [
    {
     "data": {
      "text/html": [
       "<div>\n",
       "<style scoped>\n",
       "    .dataframe tbody tr th:only-of-type {\n",
       "        vertical-align: middle;\n",
       "    }\n",
       "\n",
       "    .dataframe tbody tr th {\n",
       "        vertical-align: top;\n",
       "    }\n",
       "\n",
       "    .dataframe thead th {\n",
       "        text-align: right;\n",
       "    }\n",
       "</style>\n",
       "<table border=\"1\" class=\"dataframe\">\n",
       "  <thead>\n",
       "    <tr style=\"text-align: right;\">\n",
       "      <th>is_discounted</th>\n",
       "      <th>product_category</th>\n",
       "      <th>False</th>\n",
       "      <th>True</th>\n",
       "    </tr>\n",
       "  </thead>\n",
       "  <tbody>\n",
       "    <tr>\n",
       "      <th>0</th>\n",
       "      <td>Books</td>\n",
       "      <td>94</td>\n",
       "      <td>40</td>\n",
       "    </tr>\n",
       "    <tr>\n",
       "      <th>1</th>\n",
       "      <td>Clothing</td>\n",
       "      <td>160</td>\n",
       "      <td>81</td>\n",
       "    </tr>\n",
       "    <tr>\n",
       "      <th>2</th>\n",
       "      <td>Electronics</td>\n",
       "      <td>176</td>\n",
       "      <td>91</td>\n",
       "    </tr>\n",
       "    <tr>\n",
       "      <th>3</th>\n",
       "      <td>Food</td>\n",
       "      <td>129</td>\n",
       "      <td>57</td>\n",
       "    </tr>\n",
       "    <tr>\n",
       "      <th>4</th>\n",
       "      <td>Home</td>\n",
       "      <td>81</td>\n",
       "      <td>31</td>\n",
       "    </tr>\n",
       "  </tbody>\n",
       "</table>\n",
       "</div>"
      ],
      "text/plain": [
       "is_discounted product_category  False  True\n",
       "0                        Books     94    40\n",
       "1                     Clothing    160    81\n",
       "2                  Electronics    176    91\n",
       "3                         Food    129    57\n",
       "4                         Home     81    31"
      ]
     },
     "execution_count": 11,
     "metadata": {},
     "output_type": "execute_result"
    }
   ],
   "source": [
    "chart_df = agg_df.pivot(index='product_category', columns='is_discounted', values='Customer Count')\n",
    "chart_df = chart_df.reset_index()\n",
    "chart_df"
   ]
  },
  {
   "cell_type": "code",
   "execution_count": 12,
   "metadata": {},
   "outputs": [],
   "source": [
    "style_settings = {\n",
    "    \"chart_type\": \"stacked_column\",\n",
    "    \"position\": {\"left\": 6.0, \"top\": 1.5},\n",
    "    \"dimensions\": {\"width\": 5.0, \"height\": 5.5},\n",
    "    \"title\": {\"text\": \"Sample Stacked Bar Chart\", \"font\": {\"size\": 18, \"color\": \"CCCCCC\"}},\n",
    "    \"legend\": {\"position\": \"top\"}, # Override legend position\n",
    "    \"data_labels\": {\n",
    "        \"enabled\": True, # Keep labels enabled\n",
    "        \"font\": {\"size\": 8, \"bold\": True, \"color\": \"CCCCCC\"},\n",
    "        \"position\": \"inside_base\", # Change position\n",
    "        \"number_format\": \"0\", # Add number format back\n",
    "    },\n",
    "    \"category_axis\": {\n",
    "        \"tick_labels\": {\"font\": {\"size\": 9}},\n",
    "        \"line\": {\"visible\": False} # Add axis line visibility setting\n",
    "        },\n",
    "    \"value_axis\": {\n",
    "        \"visible\": True,\n",
    "        \"major_gridlines\": False, # Turn off gridlines\n",
    "        #\"max_scale\": 60,         # Add max scale\n",
    "        \"number_format\": \"#,##0\", # Add number format\n",
    "        \"line\": {\"visible\": False}\n",
    "    },\n",
    "    \"plot_area\": {\"border\": {\"visible\": True, \"color\": \"000000\"}},\n",
    "    # \"colors\": { # Custom colors by series name (DataFrame column name)\n",
    "    #     \"Series 1\": \"4F81BD\", # Blue\n",
    "    #     \"Series 2\": \"C0504D\", # Red\n",
    "    #     \"Series 3\": \"9BBB59\", # Green\n",
    "    # },\n",
    "    \"gap_width\": 100, # Narrower gap\n",
    "}"
   ]
  },
  {
   "cell_type": "code",
   "execution_count": 13,
   "metadata": {},
   "outputs": [
    {
     "data": {
      "text/plain": [
       "<pptx.chart.chart.Chart at 0x7f31ec0e7b60>"
      ]
     },
     "execution_count": 13,
     "metadata": {},
     "output_type": "execute_result"
    }
   ],
   "source": [
    "slide.add_chart(data=chart_df, style_settings=style_settings)"
   ]
  },
  {
   "cell_type": "markdown",
   "metadata": {},
   "source": [
    "# Save Presentation"
   ]
  },
  {
   "cell_type": "code",
   "execution_count": 14,
   "metadata": {},
   "outputs": [],
   "source": [
    "ppt.save('test.pptx')"
   ]
  },
  {
   "cell_type": "code",
   "execution_count": 15,
   "metadata": {},
   "outputs": [
    {
     "data": {
      "image/png": "[encoded data removed]",
      "text/plain": [
       "<Figure size 600x400 with 1 Axes>"
      ]
     },
     "metadata": {},
     "output_type": "display_data"
    },
    {
     "data": {
      "image/png": "[encoded data removed]",
      "text/plain": [
       "<Figure size 600x400 with 1 Axes>"
      ]
     },
     "metadata": {},
     "output_type": "display_data"
    }
   ],
   "source": [
    "from presentation.pptx_preview import preview_presentation\n",
    "# Preview an existing presentation\n",
    "preview_presentation(ppt, figsize=(12/2, 8/2), dpi=50)"
   ]
  },
  {
   "cell_type": "code",
   "execution_count": null,
   "metadata": {},
   "outputs": [],
   "source": []
  }
 ],
 "metadata": {
  "kernelspec": {
   "display_name": "Python 3",
   "language": "python",
   "name": "python3"
  },
  "language_info": {
   "codemirror_mode": {
    "name": "ipython",
    "version": 3
   },
   "file_extension": ".py",
   "mimetype": "text/x-python",
   "name": "python",
   "nbconvert_exporter": "python",
   "pygments_lexer": "ipython3",
   "version": "3.12.8"
  }
 },
 "nbformat": 4,
 "nbformat_minor": 2
}
