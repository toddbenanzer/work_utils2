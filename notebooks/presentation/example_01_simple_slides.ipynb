{
 "cells": [
  {
   "cell_type": "code",
   "execution_count": 1,
   "metadata": {},
   "outputs": [],
   "source": [
    "import os\n",
    "os.chdir('/workspaces/work_utils2')"
   ]
  },
  {
   "cell_type": "code",
   "execution_count": 2,
   "metadata": {},
   "outputs": [],
   "source": [
    "import presentation\n",
    "import pandas as pd\n",
    "import random_dataframe as rd\n",
    "import query_tools as qt"
   ]
  },
  {
   "cell_type": "code",
   "execution_count": 3,
   "metadata": {},
   "outputs": [],
   "source": [
    "ppt = presentation.PowerPointPresentation(template_filepath='presentation/assets/Blank.pptx')"
   ]
  },
  {
   "cell_type": "markdown",
   "metadata": {},
   "source": [
    "# Create Title"
   ]
  },
  {
   "cell_type": "code",
   "execution_count": 4,
   "metadata": {},
   "outputs": [],
   "source": [
    "slide = ppt.add_slide('Title Only')\n",
    "slide.set_title(title='Title', subtitle='Subtitle')"
   ]
  },
  {
   "cell_type": "markdown",
   "metadata": {},
   "source": [
    "# Load Mock-up Data"
   ]
  },
  {
   "cell_type": "code",
   "execution_count": 5,
   "metadata": {},
   "outputs": [
    {
     "data": {
      "text/html": [
       "<div>\n",
       "<style scoped>\n",
       "    .dataframe tbody tr th:only-of-type {\n",
       "        vertical-align: middle;\n",
       "    }\n",
       "\n",
       "    .dataframe tbody tr th {\n",
       "        vertical-align: top;\n",
       "    }\n",
       "\n",
       "    .dataframe thead th {\n",
       "        text-align: right;\n",
       "    }\n",
       "</style>\n",
       "<table border=\"1\" class=\"dataframe\">\n",
       "  <thead>\n",
       "    <tr style=\"text-align: right;\">\n",
       "      <th></th>\n",
       "      <th>id</th>\n",
       "      <th>name</th>\n",
       "      <th>open_date</th>\n",
       "      <th>open_week</th>\n",
       "      <th>open_month</th>\n",
       "      <th>customer_id</th>\n",
       "      <th>score</th>\n",
       "      <th>active</th>\n",
       "      <th>value</th>\n",
       "      <th>category</th>\n",
       "      <th>product_category</th>\n",
       "      <th>quantity</th>\n",
       "      <th>price</th>\n",
       "      <th>is_discounted</th>\n",
       "    </tr>\n",
       "  </thead>\n",
       "  <tbody>\n",
       "    <tr>\n",
       "      <th>312</th>\n",
       "      <td>1313</td>\n",
       "      <td>AjiGFVfO6J67bCdaszy</td>\n",
       "      <td>2024-05-14</td>\n",
       "      <td>2024-03-01</td>\n",
       "      <td>2024-03-31</td>\n",
       "      <td>348</td>\n",
       "      <td>80.772624</td>\n",
       "      <td>True</td>\n",
       "      <td>74.768991</td>\n",
       "      <td>Low</td>\n",
       "      <td>Electronics</td>\n",
       "      <td>2</td>\n",
       "      <td>40.020129</td>\n",
       "      <td>False</td>\n",
       "    </tr>\n",
       "    <tr>\n",
       "      <th>75</th>\n",
       "      <td>1076</td>\n",
       "      <td>None</td>\n",
       "      <td>2024-12-18</td>\n",
       "      <td>2024-02-09</td>\n",
       "      <td>2024-08-31</td>\n",
       "      <td>624</td>\n",
       "      <td>74.013916</td>\n",
       "      <td>True</td>\n",
       "      <td>120.817690</td>\n",
       "      <td>Medium</td>\n",
       "      <td>Clothing</td>\n",
       "      <td>2</td>\n",
       "      <td>31.301804</td>\n",
       "      <td>False</td>\n",
       "    </tr>\n",
       "    <tr>\n",
       "      <th>2</th>\n",
       "      <td>1003</td>\n",
       "      <td>Gl5v8RyWA6PB7po99U9YR2Z4c</td>\n",
       "      <td>2024-09-14</td>\n",
       "      <td>2024-07-26</td>\n",
       "      <td>2024-06-30</td>\n",
       "      <td>56</td>\n",
       "      <td>74.505334</td>\n",
       "      <td>False</td>\n",
       "      <td>122.809963</td>\n",
       "      <td>Low</td>\n",
       "      <td>Clothing</td>\n",
       "      <td>3</td>\n",
       "      <td>47.137104</td>\n",
       "      <td>False</td>\n",
       "    </tr>\n",
       "    <tr>\n",
       "      <th>444</th>\n",
       "      <td>1445</td>\n",
       "      <td>None</td>\n",
       "      <td>2024-11-25</td>\n",
       "      <td>2024-01-26</td>\n",
       "      <td>2024-07-31</td>\n",
       "      <td>813</td>\n",
       "      <td>91.764234</td>\n",
       "      <td>False</td>\n",
       "      <td>118.048192</td>\n",
       "      <td>Medium</td>\n",
       "      <td>Electronics</td>\n",
       "      <td>3</td>\n",
       "      <td>10.000000</td>\n",
       "      <td>False</td>\n",
       "    </tr>\n",
       "    <tr>\n",
       "      <th>828</th>\n",
       "      <td>1829</td>\n",
       "      <td>joPC4w6q7iXJipJVYG2</td>\n",
       "      <td>2024-10-13</td>\n",
       "      <td>2024-12-13</td>\n",
       "      <td>2024-01-31</td>\n",
       "      <td>591</td>\n",
       "      <td>65.343321</td>\n",
       "      <td>True</td>\n",
       "      <td>116.235681</td>\n",
       "      <td>Low</td>\n",
       "      <td>Electronics</td>\n",
       "      <td>3</td>\n",
       "      <td>31.272944</td>\n",
       "      <td>False</td>\n",
       "    </tr>\n",
       "  </tbody>\n",
       "</table>\n",
       "</div>"
      ],
      "text/plain": [
       "       id                       name   open_date   open_week  open_month  \\\n",
       "312  1313        AjiGFVfO6J67bCdaszy  2024-05-14  2024-03-01  2024-03-31   \n",
       "75   1076                       None  2024-12-18  2024-02-09  2024-08-31   \n",
       "2    1003  Gl5v8RyWA6PB7po99U9YR2Z4c  2024-09-14  2024-07-26  2024-06-30   \n",
       "444  1445                       None  2024-11-25  2024-01-26  2024-07-31   \n",
       "828  1829        joPC4w6q7iXJipJVYG2  2024-10-13  2024-12-13  2024-01-31   \n",
       "\n",
       "     customer_id      score  active       value category product_category  \\\n",
       "312          348  80.772624    True   74.768991      Low      Electronics   \n",
       "75           624  74.013916    True  120.817690   Medium         Clothing   \n",
       "2             56  74.505334   False  122.809963      Low         Clothing   \n",
       "444          813  91.764234   False  118.048192   Medium      Electronics   \n",
       "828          591  65.343321    True  116.235681      Low      Electronics   \n",
       "\n",
       "     quantity      price  is_discounted  \n",
       "312         2  40.020129          False  \n",
       "75          2  31.301804          False  \n",
       "2           3  47.137104          False  \n",
       "444         3  10.000000          False  \n",
       "828         3  31.272944          False  "
      ]
     },
     "execution_count": 5,
     "metadata": {},
     "output_type": "execute_result"
    }
   ],
   "source": [
    "import json\n",
    "with open('/workspaces/work_utils2/notebooks/creating_random_data/example_03.json', 'r') as f:\n",
    "    specs = json.load(f)\n",
    "df = rd.create_dataframe(specs, n_rows=1000, random_seed=42)\n",
    "df.sample(5)"
   ]
  },
  {
   "cell_type": "code",
   "execution_count": 6,
   "metadata": {},
   "outputs": [],
   "source": [
    "agg_config = {\n",
    "    \"type\": \"aggregation\",\n",
    "    \"spec\": {\n",
    "        \"groupby\": [\"product_category\"],\n",
    "        \"aggregations\": [\n",
    "            {\"column\": \"customer_id\", \"function\": \"nunique\", \"name\": \"Customer Count\"},\n",
    "            {\"column\": \"price\", \"function\": \"mean\", \"name\": \"Avg Price\"},\n",
    "            {\"column\": \"quantity\", \"function\": \"sum\", \"name\": \"Total Quantity\"},\n",
    "            {\"column\": \"is_discounted\", \"function\": \"mean\", \"name\": \"Discount Rate\"},\n",
    "        ]\n",
    "    }\n",
    "}\n",
    "agg_df = qt.aggregations.process_aggregation(df, agg_config)"
   ]
  },
  {
   "cell_type": "code",
   "execution_count": 7,
   "metadata": {},
   "outputs": [
    {
     "ename": "IndexError",
     "evalue": "list index out of range",
     "output_type": "error",
     "traceback": [
      "\u001b[31m---------------------------------------------------------------------------\u001b[39m",
      "\u001b[31mIndexError\u001b[39m                                Traceback (most recent call last)",
      "\u001b[36mCell\u001b[39m\u001b[36m \u001b[39m\u001b[32mIn[7]\u001b[39m\u001b[32m, line 3\u001b[39m\n\u001b[32m      1\u001b[39m slide = ppt.add_slide(\u001b[33m'\u001b[39m\u001b[33mTitle Only\u001b[39m\u001b[33m'\u001b[39m)\n\u001b[32m      2\u001b[39m slide.set_title(title=\u001b[33m'\u001b[39m\u001b[33mData\u001b[39m\u001b[33m'\u001b[39m, subtitle=\u001b[33m'\u001b[39m\u001b[33mAggregation 1\u001b[39m\u001b[33m'\u001b[39m)\n\u001b[32m----> \u001b[39m\u001b[32m3\u001b[39m \u001b[43mslide\u001b[49m\u001b[43m.\u001b[49m\u001b[43madd_table\u001b[49m\u001b[43m(\u001b[49m\u001b[43mdata\u001b[49m\u001b[43m=\u001b[49m\u001b[43magg_df\u001b[49m\u001b[43m,\u001b[49m\u001b[43m \u001b[49m\u001b[43mleft\u001b[49m\u001b[43m=\u001b[49m\u001b[32;43m0.5\u001b[39;49m\u001b[43m,\u001b[49m\u001b[43m \u001b[49m\u001b[43mtop\u001b[49m\u001b[43m=\u001b[49m\u001b[32;43m1.5\u001b[39;49m\u001b[43m,\u001b[49m\u001b[43m \u001b[49m\u001b[43mwidth\u001b[49m\u001b[43m=\u001b[49m\u001b[32;43m8\u001b[39;49m\u001b[43m,\u001b[49m\u001b[43m \u001b[49m\u001b[43mheight\u001b[49m\u001b[43m=\u001b[49m\u001b[32;43m3\u001b[39;49m\u001b[43m)\u001b[49m\n",
      "\u001b[36mFile \u001b[39m\u001b[32m/workspaces/work_utils2/presentation/presentation.py:107\u001b[39m, in \u001b[36mPowerPointSlide.add_table\u001b[39m\u001b[34m(self, data, left, top, width, height, style_settings)\u001b[39m\n\u001b[32m    105\u001b[39m \u001b[38;5;28;01mif\u001b[39;00m height \u001b[38;5;129;01mis\u001b[39;00m \u001b[38;5;129;01mnot\u001b[39;00m \u001b[38;5;28;01mNone\u001b[39;00m:\n\u001b[32m    106\u001b[39m     height = Inches(height)\n\u001b[32m--> \u001b[39m\u001b[32m107\u001b[39m \u001b[43mcreate_table\u001b[49m\u001b[43m(\u001b[49m\n\u001b[32m    108\u001b[39m \u001b[43m    \u001b[49m\u001b[38;5;28;43mself\u001b[39;49m\u001b[43m.\u001b[49m\u001b[43mslide\u001b[49m\u001b[43m,\u001b[49m\u001b[43m \u001b[49m\u001b[43mdata\u001b[49m\u001b[43m,\u001b[49m\u001b[43m \u001b[49m\u001b[43mInches\u001b[49m\u001b[43m(\u001b[49m\u001b[43mleft\u001b[49m\u001b[43m)\u001b[49m\u001b[43m,\u001b[49m\u001b[43m \u001b[49m\u001b[43mInches\u001b[49m\u001b[43m(\u001b[49m\u001b[43mtop\u001b[49m\u001b[43m)\u001b[49m\u001b[43m,\u001b[49m\u001b[43m \u001b[49m\u001b[43mwidth\u001b[49m\u001b[43m,\u001b[49m\u001b[43m \u001b[49m\u001b[43mheight\u001b[49m\u001b[43m,\u001b[49m\u001b[43m \u001b[49m\u001b[43mstyle_settings\u001b[49m\n\u001b[32m    109\u001b[39m \u001b[43m\u001b[49m\u001b[43m)\u001b[49m\n",
      "\u001b[36mFile \u001b[39m\u001b[32m/workspaces/work_utils2/presentation/table_creator.py:114\u001b[39m, in \u001b[36mcreate_table\u001b[39m\u001b[34m(slide, data, left, top, width, height, style_settings)\u001b[39m\n\u001b[32m    112\u001b[39m     \u001b[38;5;66;03m# Fill column headers\u001b[39;00m\n\u001b[32m    113\u001b[39m     \u001b[38;5;28;01mfor\u001b[39;00m col_idx, col_name \u001b[38;5;129;01min\u001b[39;00m \u001b[38;5;28menumerate\u001b[39m(data.columns):\n\u001b[32m--> \u001b[39m\u001b[32m114\u001b[39m         \u001b[43mtable\u001b[49m\u001b[43m.\u001b[49m\u001b[43mcell\u001b[49m\u001b[43m(\u001b[49m\u001b[32;43m0\u001b[39;49m\u001b[43m,\u001b[49m\u001b[43m \u001b[49m\u001b[43mcol_idx\u001b[49m\u001b[43m \u001b[49m\u001b[43m+\u001b[49m\u001b[43m \u001b[49m\u001b[43mcol_offset\u001b[49m\u001b[43m)\u001b[49m.text = \u001b[38;5;28mstr\u001b[39m(col_name)\n\u001b[32m    116\u001b[39m \u001b[38;5;66;03m# Now fill the data cells\u001b[39;00m\n\u001b[32m    117\u001b[39m \u001b[38;5;28;01mif\u001b[39;00m \u001b[38;5;28misinstance\u001b[39m(data.index, pd.MultiIndex):\n\u001b[32m    118\u001b[39m     \u001b[38;5;66;03m# Handle multi-level indexes\u001b[39;00m\n",
      "\u001b[36mFile \u001b[39m\u001b[32m/usr/local/lib/python3.12/site-packages/pptx/table.py:40\u001b[39m, in \u001b[36mTable.cell\u001b[39m\u001b[34m(self, row_idx, col_idx)\u001b[39m\n\u001b[32m     34\u001b[39m \u001b[38;5;28;01mdef\u001b[39;00m\u001b[38;5;250m \u001b[39m\u001b[34mcell\u001b[39m(\u001b[38;5;28mself\u001b[39m, row_idx: \u001b[38;5;28mint\u001b[39m, col_idx: \u001b[38;5;28mint\u001b[39m) -> _Cell:\n\u001b[32m     35\u001b[39m \u001b[38;5;250m    \u001b[39m\u001b[33;03m\"\"\"Return cell at `row_idx`, `col_idx`.\u001b[39;00m\n\u001b[32m     36\u001b[39m \n\u001b[32m     37\u001b[39m \u001b[33;03m    Return value is an instance of |_Cell|. `row_idx` and `col_idx` are zero-based, e.g.\u001b[39;00m\n\u001b[32m     38\u001b[39m \u001b[33;03m    cell(0, 0) is the top, left cell in the table.\u001b[39;00m\n\u001b[32m     39\u001b[39m \u001b[33;03m    \"\"\"\u001b[39;00m\n\u001b[32m---> \u001b[39m\u001b[32m40\u001b[39m     \u001b[38;5;28;01mreturn\u001b[39;00m _Cell(\u001b[38;5;28;43mself\u001b[39;49m\u001b[43m.\u001b[49m\u001b[43m_tbl\u001b[49m\u001b[43m.\u001b[49m\u001b[43mtc\u001b[49m\u001b[43m(\u001b[49m\u001b[43mrow_idx\u001b[49m\u001b[43m,\u001b[49m\u001b[43m \u001b[49m\u001b[43mcol_idx\u001b[49m\u001b[43m)\u001b[49m, \u001b[38;5;28mself\u001b[39m)\n",
      "\u001b[36mFile \u001b[39m\u001b[32m/usr/local/lib/python3.12/site-packages/pptx/oxml/table.py:137\u001b[39m, in \u001b[36mCT_Table.tc\u001b[39m\u001b[34m(self, row_idx, col_idx)\u001b[39m\n\u001b[32m    135\u001b[39m \u001b[38;5;28;01mdef\u001b[39;00m\u001b[38;5;250m \u001b[39m\u001b[34mtc\u001b[39m(\u001b[38;5;28mself\u001b[39m, row_idx: \u001b[38;5;28mint\u001b[39m, col_idx: \u001b[38;5;28mint\u001b[39m) -> CT_TableCell:\n\u001b[32m    136\u001b[39m \u001b[38;5;250m    \u001b[39m\u001b[33;03m\"\"\"Return `a:tc` element at `row_idx`, `col_idx`.\"\"\"\u001b[39;00m\n\u001b[32m--> \u001b[39m\u001b[32m137\u001b[39m     \u001b[38;5;28;01mreturn\u001b[39;00m \u001b[38;5;28;43mself\u001b[39;49m\u001b[43m.\u001b[49m\u001b[43mtr_lst\u001b[49m\u001b[43m[\u001b[49m\u001b[43mrow_idx\u001b[49m\u001b[43m]\u001b[49m\u001b[43m.\u001b[49m\u001b[43mtc_lst\u001b[49m\u001b[43m[\u001b[49m\u001b[43mcol_idx\u001b[49m\u001b[43m]\u001b[49m\n",
      "\u001b[31mIndexError\u001b[39m: list index out of range"
     ]
    }
   ],
   "source": [
    "slide = ppt.add_slide('Title Only')\n",
    "slide.set_title(title='Data', subtitle='Aggregation 1')\n",
    "slide.add_table(data=agg_df, left=0.5, top=1.5, width=8, height=3)"
   ]
  },
  {
   "cell_type": "markdown",
   "metadata": {},
   "source": [
    "# Save Presentation"
   ]
  },
  {
   "cell_type": "code",
   "execution_count": null,
   "metadata": {},
   "outputs": [],
   "source": [
    "ppt.save('test.pptx')"
   ]
  },
  {
   "cell_type": "code",
   "execution_count": null,
   "metadata": {
    "vscode": {
     "languageId": "ini"
    }
   },
   "outputs": [],
   "source": []
  },
  {
   "cell_type": "code",
   "execution_count": null,
   "metadata": {},
   "outputs": [],
   "source": []
  }
 ],
 "metadata": {
  "kernelspec": {
   "display_name": "Python 3",
   "language": "python",
   "name": "python3"
  },
  "language_info": {
   "codemirror_mode": {
    "name": "ipython",
    "version": 3
   },
   "file_extension": ".py",
   "mimetype": "text/x-python",
   "name": "python",
   "nbconvert_exporter": "python",
   "pygments_lexer": "ipython3",
   "version": "3.12.8"
  }
 },
 "nbformat": 4,
 "nbformat_minor": 2
}
