{
 "cells": [
  {
   "cell_type": "code",
   "execution_count": null,
   "metadata": {},
   "outputs": [],
   "source": [
    "import os\n",
    "os.chdir('/workspaces/work_utils2')"
   ]
  },
  {
   "cell_type": "code",
   "execution_count": null,
   "metadata": {},
   "outputs": [],
   "source": [
    "import presentation\n",
    "import pandas as pd\n",
    "import random_dataframe as rd\n",
    "import query_tools as qt"
   ]
  },
  {
   "cell_type": "code",
   "execution_count": null,
   "metadata": {},
   "outputs": [],
   "source": [
    "ppt = presentation.PowerPointPresentation(template_filepath='presentation/assets/Blank.pptx')"
   ]
  },
  {
   "cell_type": "markdown",
   "metadata": {},
   "source": [
    "# Create Title"
   ]
  },
  {
   "cell_type": "code",
   "execution_count": null,
   "metadata": {},
   "outputs": [],
   "source": [
    "# slide = ppt.add_slide('Title Only')\n",
    "# slide.set_title(title='Title', subtitle='Subtitle')"
   ]
  },
  {
   "cell_type": "markdown",
   "metadata": {},
   "source": [
    "# Load Mock-up Data"
   ]
  },
  {
   "cell_type": "code",
   "execution_count": null,
   "metadata": {},
   "outputs": [],
   "source": [
    "import json\n",
    "with open('/workspaces/work_utils2/notebooks/creating_random_data/example_03.json', 'r') as f:\n",
    "    specs = json.load(f)\n",
    "df = rd.create_dataframe(specs, n_rows=1000, random_seed=42)\n",
    "df.head(3)"
   ]
  },
  {
   "cell_type": "markdown",
   "metadata": {},
   "source": [
    "## Slide 1"
   ]
  },
  {
   "cell_type": "code",
   "execution_count": null,
   "metadata": {},
   "outputs": [],
   "source": [
    "agg_config = {\n",
    "    \"type\": \"aggregation\",\n",
    "    \"spec\": {\n",
    "        \"groupby\": [\"product_category\"],\n",
    "        \"aggregations\": [\n",
    "            {\"column\": \"customer_id\", \"function\": \"nunique\", \"name\": \"Customer Count\"},\n",
    "            {\"column\": \"price\", \"function\": \"mean\", \"name\": \"Avg Price\"},\n",
    "            {\"column\": \"quantity\", \"function\": \"sum\", \"name\": \"Total Quantity\"},\n",
    "            {\"column\": \"is_discounted\", \"function\": \"mean\", \"name\": \"Discount Rate\"},\n",
    "        ]\n",
    "    }\n",
    "}\n",
    "agg_df = qt.aggregations.process_aggregation(df, agg_config) \\\n",
    "    .set_index(agg_config['spec']['groupby'])\n",
    "agg_df"
   ]
  },
  {
   "cell_type": "code",
   "execution_count": null,
   "metadata": {},
   "outputs": [],
   "source": [
    "style_settings = {\n",
    "    \"header\": {\n",
    "        \"fill\": \"#FFFFFF\",\n",
    "        \"vertical_alignment\": \"middle\",\n",
    "        \"horizontal_alignment\": \"left\",\n",
    "        \"font\": {\n",
    "            \"color\": \"#000000\",\n",
    "            \"bold\": True,\n",
    "            \"size\": 11,\n",
    "            \"name\": \"Arial\"\n",
    "        }\n",
    "    },\n",
    "    \"defaults\": {\n",
    "        \"fill\": \"#FFFFFF\",\n",
    "        \"font\": {\n",
    "            \"color\": \"#000000\",\n",
    "            \"bold\": False,\n",
    "            \"size\": 11,\n",
    "            \"name\": \"Arial\"\n",
    "        }\n",
    "    }\n",
    "\n",
    "}"
   ]
  },
  {
   "cell_type": "code",
   "execution_count": null,
   "metadata": {},
   "outputs": [],
   "source": [
    "slide = ppt.add_slide('Title Only')\n",
    "slide.set_title(title='Data', subtitle='Aggregation 1')\n",
    "slide.add_table(data=agg_df, left=0.5, top=1.5, width=8, height=3, style_settings=style_settings)"
   ]
  },
  {
   "cell_type": "markdown",
   "metadata": {},
   "source": [
    "# Slide 2"
   ]
  },
  {
   "cell_type": "code",
   "execution_count": null,
   "metadata": {},
   "outputs": [],
   "source": [
    "agg_config = {\n",
    "    \"type\": \"aggregation\",\n",
    "    \"spec\": {\n",
    "        \"groupby\": [\"product_category\", \"is_discounted\"],\n",
    "        \"aggregations\": [\n",
    "            {\"column\": \"customer_id\", \"function\": \"nunique\", \"name\": \"Customer Count\"},\n",
    "            {\"column\": \"price\", \"function\": \"mean\", \"name\": \"Avg Price\"},\n",
    "            {\"column\": \"quantity\", \"function\": \"sum\", \"name\": \"Total Quantity\"},\n",
    "            {\"column\": \"is_discounted\", \"function\": \"mean\", \"name\": \"Discount Rate\"},\n",
    "        ]\n",
    "    }\n",
    "}\n",
    "agg_df = qt.aggregations.process_aggregation(df, agg_config) \\\n",
    "    .set_index(agg_config['spec']['groupby'])\n",
    "agg_df"
   ]
  },
  {
   "cell_type": "code",
   "execution_count": null,
   "metadata": {},
   "outputs": [],
   "source": [
    "slide = ppt.add_slide('Title Only')\n",
    "slide.set_title(title='Data', subtitle='Aggregation 2')\n",
    "slide.add_table(data=agg_df, left=0.5, top=1.5, width=8, height=3, style_settings=style_settings)"
   ]
  },
  {
   "cell_type": "markdown",
   "metadata": {},
   "source": [
    "# Save Presentation"
   ]
  },
  {
   "cell_type": "code",
   "execution_count": null,
   "metadata": {},
   "outputs": [],
   "source": [
    "ppt.save('test.pptx')"
   ]
  },
  {
   "cell_type": "code",
   "execution_count": null,
   "metadata": {},
   "outputs": [],
   "source": [
    "from presentation.pptx_preview import preview_presentation\n",
    "# Preview an existing presentation\n",
    "preview_presentation(ppt)"
   ]
  },
  {
   "cell_type": "code",
   "execution_count": null,
   "metadata": {},
   "outputs": [],
   "source": []
  }
 ],
 "metadata": {
  "kernelspec": {
   "display_name": "Python 3",
   "language": "python",
   "name": "python3"
  },
  "language_info": {
   "codemirror_mode": {
    "name": "ipython",
    "version": 3
   },
   "file_extension": ".py",
   "mimetype": "text/x-python",
   "name": "python",
   "nbconvert_exporter": "python",
   "pygments_lexer": "ipython3",
   "version": "3.12.8"
  }
 },
 "nbformat": 4,
 "nbformat_minor": 2
}
