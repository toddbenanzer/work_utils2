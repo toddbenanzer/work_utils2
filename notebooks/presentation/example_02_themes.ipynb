{
    "cells": [
        {
            "cell_type": "markdown",
            "metadata": {},
            "source": [
                "# PowerPoint Presentation Themes Example\n",
                "\n",
                "This notebook demonstrates how to use the themes module to create and apply themes to PowerPoint presentations."
            ]
        },
        {
            "cell_type": "code",
            "execution_count": null,
            "metadata": {},
            "source": [
                "import os\n",
                "import sys\n",
                "import pandas as pd\n",
                "import matplotlib.pyplot as plt\n",
                "\n",
                "# Add the parent directory to the path so we can import the presentation module\n",
                "sys.path.append(os.path.abspath('..'))\n",
                "\n",
                "from presentation import PowerPointPresentation, PowerPointTheme, get_preset_theme\n",
                "from presentation.pptx_preview import preview_presentation, check_dependencies"
            ]
        },
        {
            "cell_type": "markdown",
            "metadata": {},
            "source": [
                "## Check Dependencies\n",
                "\n",
                "First, let's check if we have all the required dependencies for previewing presentations."
            ]
        },
        {
            "cell_type": "code",
            "execution_count": null,
            "metadata": {},
            "source": [
                "check_dependencies()"
            ]
        },
        {
            "cell_type": "markdown",
            "metadata": {},
            "source": [
                "## Create a Presentation with a Preset Theme\n",
                "\n",
                "Let's create a presentation using one of the preset themes."
            ]
        },
        {
            "cell_type": "code",
            "execution_count": null,
            "metadata": {},
            "source": [
                "# Create a presentation\n",
                "pres = PowerPointPresentation()\n",
                "\n",
                "# Get a preset theme\n",
                "theme = get_preset_theme('corporate')\n",
                "\n",
                "# Apply the theme to the presentation\n",
                "theme.apply_to_presentation(pres.presentation)\n",
                "\n",
                "# Add a slide\n",
                "slide = pres.add_slide()\n",
                "slide.set_title(\"Corporate Theme Example\", \"Using the PowerPoint Themes Module\")\n",
                "\n",
                "# Add some sample content\n",
                "slide.add_textbox(\"This slide uses the Corporate theme with predefined colors and fonts.\", \n",
                "                 left=100, top=200, width=500, height=100)\n",
                "\n",
                "# Save the presentation\n",
                "output_path = \"corporate_theme_example.pptx\"\n",
                "pres.save(output_path)\n",
                "\n",
                "# Preview the presentation\n",
                "preview_presentation(output_path)"
            ]
        },
        {
            "cell_type": "markdown",
            "metadata": {},
            "source": [
                "## Create a Presentation with a Modern Theme\n",
                "\n",
                "Now let's try the modern theme."
            ]
        },
        {
            "cell_type": "code",
            "execution_count": null,
            "metadata": {},
            "source": [
                "# Create a presentation\n",
                "pres = PowerPointPresentation()\n",
                "\n",
                "# Get a preset theme\n",
                "theme = get_preset_theme('modern')\n",
                "\n",
                "# Apply the theme to the presentation\n",
                "theme.apply_to_presentation(pres.presentation)\n",
                "\n",
                "# Add a slide\n",
                "slide = pres.add_slide()\n",
                "slide.set_title(\"Modern Theme Example\", \"Using the PowerPoint Themes Module\")\n",
                "\n",
                "# Add some sample content\n",
                "slide.add_textbox(\"This slide uses the Modern theme with predefined colors and fonts.\", \n",
                "                 left=100, top=200, width=500, height=100)\n",
                "\n",
                "# Save the presentation\n",
                "output_path = \"modern_theme_example.pptx\"\n",
                "pres.save(output_path)\n",
                "\n",
                "# Preview the presentation\n",
                "preview_presentation(output_path)"
            ]
        },
        {
            "cell_type": "markdown",
            "metadata": {},
            "source": [
                "## Create a Custom Theme\n",
                "\n",
                "Let's create a custom theme with our own colors and fonts."
            ]
        },
        {
            "cell_type": "code",
            "execution_count": null,
            "metadata": {},
            "source": [
                "# Create a custom theme\n",
                "custom_theme = PowerPointTheme(name=\"Custom Theme\")\n",
                "\n",
                "# Set custom colors\n",
                "custom_theme.color_scheme.set_color(\"dark1\", \"#1A237E\")  # Dark blue\n",
                "custom_theme.color_scheme.set_color(\"light1\", \"#FFFFFF\")  # White\n",
                "custom_theme.color_scheme.set_color(\"accent1\", \"#FF4081\")  # Pink\n",
                "custom_theme.color_scheme.set_color(\"accent2\", \"#00BCD4\")  # Cyan\n",
                "custom_theme.color_scheme.set_color(\"accent3\", \"#FFC107\")  # Amber\n",
                "\n",
                "# Set custom fonts\n",
                "custom_theme.font_scheme.set_font(\"heading\", \"latin\", \"Georgia\")\n",
                "custom_theme.font_scheme.set_font(\"body\", \"latin\", \"Verdana\")\n",
                "\n",
                "# Set custom font sizes\n",
                "custom_theme.font_scheme.set_font_size(\"title\", 36)\n",
                "custom_theme.font_scheme.set_font_size(\"body\", 14)\n",
                "\n",
                "# Create a presentation with the custom theme\n",
                "pres = PowerPointPresentation()\n",
                "custom_theme.apply_to_presentation(pres.presentation)\n",
                "\n",
                "# Add a slide\n",
                "slide = pres.add_slide()\n",
                "slide.set_title(\"Custom Theme Example\", \"Using the PowerPoint Themes Module\")\n",
                "\n",
                "# Add some sample content\n",
                "slide.add_textbox(\"This slide uses a custom theme with our own colors and fonts.\", \n",
                "                 left=100, top=200, width=500, height=100)\n",
                "\n",
                "# Save the presentation\n",
                "output_path = \"custom_theme_example.pptx\"\n",
                "pres.save(output_path)\n",
                "\n",
                "# Preview the presentation\n",
                "preview_presentation(output_path)"
            ]
        },
        {
            "cell_type": "markdown",
            "metadata": {},
            "source": [
                "## Save and Load Themes\n",
                "\n",
                "Themes can be saved to JSON files and loaded later."
            ]
        },
        {
            "cell_type": "code",
            "execution_count": null,
            "metadata": {},
            "source": [
                "# Save the custom theme to a JSON file\n",
                "custom_theme.save(\"custom_theme.json\")\n",
                "\n",
                "# Load the theme from the JSON file\n",
                "loaded_theme = PowerPointTheme.load(\"custom_theme.json\")\n",
                "\n",
                "# Create a presentation with the loaded theme\n",
                "pres = PowerPointPresentation()\n",
                "loaded_theme.apply_to_presentation(pres.presentation)\n",
                "\n",
                "# Add a slide\n",
                "slide = pres.add_slide()\n",
                "slide.set_title(\"Loaded Theme Example\", \"Using the PowerPoint Themes Module\")\n",
                "\n",
                "# Add some sample content\n",
                "slide.add_textbox(\"This slide uses a theme loaded from a JSON file.\", \n",
                "                 left=100, top=200, width=500, height=100)\n",
                "\n",
                "# Save the presentation\n",
                "output_path = \"loaded_theme_example.pptx\"\n",
                "pres.save(output_path)\n",
                "\n",
                "# Preview the presentation\n",
                "preview_presentation(output_path)"
            ]
        },
        {
            "cell_type": "markdown",
            "metadata": {},
            "source": [
                "## Create a Presentation with Charts and Tables Using a Theme\n",
                "\n",
                "Let's create a more complex presentation with charts and tables using a theme."
            ]
        },
        {
            "cell_type": "code",
            "execution_count": null,
            "metadata": {},
            "source": [
                "# Create sample data for a chart\n",
                "chart_data = pd.DataFrame({\n",
                "    'Category': ['A', 'B', 'C', 'D', 'E'],\n",
                "    'Series 1': [10, 25, 15, 30, 20],\n",
                "    'Series 2': [15, 30, 10, 25, 35]\n",
                "})\n",
                "\n",
                "# Create sample data for a table\n",
                "table_data = pd.DataFrame({\n",
                "    'Product': ['Widget A', 'Widget B', 'Widget C', 'Widget D'],\n",
                "    'Q1 Sales': [1200, 1500, 900, 1800],\n",
                "    'Q2 Sales': [1300, 1700, 950, 2000],\n",
                "    'Q3 Sales': [1400, 1600, 1100, 1900],\n",
                "    'Q4 Sales': [1600, 1800, 1200, 2100]\n",
                "})\n",
                "\n",
                "# Create a presentation with the modern theme\n",
                "pres = PowerPointPresentation()\n",
                "theme = get_preset_theme('modern')\n",
                "theme.apply_to_presentation(pres.presentation)\n",
                "\n",
                "# Add a title slide\n",
                "slide = pres.add_slide()\n",
                "slide.set_title(\"Modern Theme Presentation\", \"With Charts and Tables\")\n",
                "\n",
                "# Add a slide with a chart\n",
                "chart_slide = pres.add_slide()\n",
                "chart_slide.set_title(\"Sales Chart\")\n",
                "chart_style = {\n",
                "    \"chart_type\": \"clustered_column\",\n",
                "    \"position\": {\"left\": 1.0, \"top\": 1.5},\n",
                "    \"dimensions\": {\"width\": 8.0, \"height\": 4.5},\n",
                "    \"title\": {\"text\": \"Quarterly Sales by Product\", \"visible\": True},\n",
                "    \"legend\": {\"enabled\": True, \"position\": \"bottom\"}\n",
                "}\n",
                "chart_slide.add_chart(chart_data, chart_style)\n",
                "\n",
                "# Add a slide with a table\n",
                "table_slide = pres.add_slide()\n",
                "table_slide.set_title(\"Sales Table\")\n",
                "table_style = {\n",
                "    \"position\": {\"left\": 1.0, \"top\": 1.5},\n",
                "    \"row_heights\": 0.5,\n",
                "    \"number_formats\": {\n",
                "        \"Q1 Sales\": {\"type\": \"currency\", \"decimal_places\": 0},\n",
                "        \"Q2 Sales\": {\"type\": \"currency\", \"decimal_places\": 0},\n",
                "        \"Q3 Sales\": {\"type\": \"currency\", \"decimal_places\": 0},\n",
                "        \"Q4 Sales\": {\"type\": \"currency\", \"decimal_places\": 0}\n",
                "    }\n",
                "}\n",
                "table_slide.add_table(table_data, table_style)\n",
                "\n",
                "# Save the presentation\n",
                "output_path = \"modern_theme_with_charts_tables.pptx\"\n",
                "pres.save(output_path)\n",
                "\n",
                "# Preview the presentation\n",
                "preview_presentation(output_path)"
            ]
        },
        {
            "cell_type": "markdown",
            "metadata": {},
            "source": [
                "## Extract Theme from an Existing Presentation\n",
                "\n",
                "You can extract theme information from an existing presentation."
            ]
        },
        {
            "cell_type": "code",
            "execution_count": null,
            "metadata": {},
            "source": [
                "from presentation.themes import extract_theme_from_presentation\n",
                "from pptx import Presentation\n",
                "\n",
                "# Load an existing presentation\n",
                "existing_pres = Presentation(\"modern_theme_example.pptx\")\n",
                "\n",
                "# Extract the theme\n",
                "extracted_theme = extract_theme_from_presentation(existing_pres)\n",
                "\n",
                "# Print theme information\n",
                "print(f\"Extracted Theme Name: {extracted_theme.name}\")\n",
                "print(f\"Background Color: {extracted_theme.background_style.get('color')}\")\n",
                "\n",
                "# Save the extracted theme\n",
                "extracted_theme.save(\"extracted_theme.json\")"
            ]
        }
    ],
    "metadata": {
        "kernelspec": {
            "display_name": "Python 3",
            "language": "python",
            "name": "python3"
        },
        "language_info": {
            "codemirror_mode": {
                "name": "ipython",
                "version": 3
            },
            "file_extension": ".py",
            "mimetype": "text/x-python",
            "name": "python",
            "nbconvert_exporter": "python",
            "pygments_lexer": "ipython3",
            "version": "3.8.10"
        }
    },
    "nbformat": 4,
    "nbformat_minor": 4
}